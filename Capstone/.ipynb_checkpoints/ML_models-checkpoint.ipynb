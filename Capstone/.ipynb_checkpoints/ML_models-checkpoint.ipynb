{
 "cells": [
  {
   "cell_type": "code",
   "execution_count": 126,
   "id": "4c867804",
   "metadata": {},
   "outputs": [],
   "source": [
    "## Import Libraries\n",
    "import itertools\n",
    "\n",
    "import numpy as np\n",
    "import pandas as pd\n",
    "\n",
    "%matplotlib inline\n",
    "import matplotlib.pyplot as plt\n",
    "import matplotlib.gridspec as gridspec\n",
    "import seaborn as sns\n",
    "from time import time\n",
    "from sklearn.impute import SimpleImputer\n",
    "from sklearn.preprocessing import MinMaxScaler\n",
    "from sklearn.feature_selection import RFE\n",
    "from sklearn.feature_selection import RFECV\n",
    "from sklearn.feature_selection import SequentialFeatureSelector\n",
    "from sklearn.model_selection import StratifiedKFold\n",
    "from sklearn.model_selection import RepeatedStratifiedKFold\n",
    "from sklearn import model_selection\n",
    "from sklearn.ensemble import RandomForestClassifier\n",
    "from sklearn.linear_model import LogisticRegression\n",
    "from sklearn.model_selection import cross_val_score\n",
    "from sklearn.model_selection import cross_val_score, train_test_split\n",
    "from sklearn.model_selection import KFold\n",
    "from sklearn.model_selection import train_test_split\n",
    "from sklearn.naive_bayes import GaussianNB \n",
    "from sklearn.neighbors import KNeighborsClassifier\n",
    "from sklearn import metrics\n",
    "from sklearn.metrics import confusion_matrix\n",
    "from sklearn.metrics import accuracy_score\n",
    "from sklearn.metrics import precision_score\n",
    "from sklearn.metrics import recall_score\n",
    "from sklearn.metrics import average_precision_score\n",
    "from sklearn.metrics import roc_auc_score\n",
    "from sklearn.metrics import precision_recall_curve\n",
    "from sklearn.metrics import roc_curve\n",
    "from sklearn.metrics import auc\n",
    "from sklearn.metrics import *\n",
    "from sklearn.metrics import roc_auc_score\n",
    "from sklearn.model_selection import cross_val_score\n",
    "from sklearn.metrics import roc_curve, auc\n",
    "from sklearn.metrics import accuracy_score, confusion_matrix\n",
    "from sklearn.metrics import classification_report\n",
    "from sklearn.model_selection import GridSearchCV\n",
    "from boruta import BorutaPy\n",
    "import shap\n",
    "import warnings\n",
    "warnings.filterwarnings('ignore')"
   ]
  },
  {
   "cell_type": "code",
   "execution_count": 15,
   "id": "8b400897",
   "metadata": {},
   "outputs": [],
   "source": [
    "#settingparameters \n",
    "pd.set_option('display.max_rows', 500)\n",
    "pd.set_option('display.max_columns', 500)\n",
    "pd.set_option('display.max_colwidth', None)\n",
    "pd.options.display.max_seq_items = 2000"
   ]
  },
  {
   "cell_type": "code",
   "execution_count": 18,
   "id": "988def21",
   "metadata": {},
   "outputs": [],
   "source": [
    "#import dataframe \n",
    "df = pd.read_csv('/Users/z3433848/Desktop/DSI/Capstone/df.csv')"
   ]
  },
  {
   "cell_type": "code",
   "execution_count": 19,
   "id": "186bd3f3",
   "metadata": {},
   "outputs": [
    {
     "name": "stdout",
     "output_type": "stream",
     "text": [
      "<class 'pandas.core.frame.DataFrame'>\n",
      "RangeIndex: 174 entries, 0 to 173\n",
      "Data columns (total 84 columns):\n",
      " #   Column                      Non-Null Count  Dtype  \n",
      "---  ------                      --------------  -----  \n",
      " 0   xG                          174 non-null    float64\n",
      " 1   xGA                         174 non-null    float64\n",
      " 2   Poss                        174 non-null    int64  \n",
      " 3   Touches                     174 non-null    int64  \n",
      " 4   Press                       174 non-null    int64  \n",
      " 5   Tkl                         174 non-null    int64  \n",
      " 6   Int                         174 non-null    int64  \n",
      " 7   Blocks                      174 non-null    int64  \n",
      " 8   xG_Expected                 174 non-null    float64\n",
      " 9   npxG_Expected               174 non-null    float64\n",
      " 10  xA_Expected                 174 non-null    float64\n",
      " 11  Att_Passes                  174 non-null    int64  \n",
      " 12  Cmp_percent_Passes          174 non-null    float64\n",
      " 13  Prog_Passes                 174 non-null    int64  \n",
      " 14  Prog_Carries                174 non-null    int64  \n",
      " 15  Succ_Dribbles               174 non-null    int64  \n",
      " 16  Att_Dribbles                174 non-null    int64  \n",
      " 17  Cmp_percent_Total           174 non-null    float64\n",
      " 18  TotDist_Total               174 non-null    int64  \n",
      " 19  PrgDist_Total               174 non-null    int64  \n",
      " 20  Att_Short                   174 non-null    int64  \n",
      " 21  Cmp_percent_Short           174 non-null    float64\n",
      " 22  Att_Medium                  174 non-null    int64  \n",
      " 23  Cmp_percent_Medium          174 non-null    float64\n",
      " 24  Att_Long                    174 non-null    int64  \n",
      " 25  Cmp_percent_Long            174 non-null    float64\n",
      " 26  PPA                         174 non-null    int64  \n",
      " 27  CrsPA                       174 non-null    int64  \n",
      " 28  Live_Pass_Types             174 non-null    int64  \n",
      " 29  Dead_Pass_Types             174 non-null    int64  \n",
      " 30  FK_Pass_Types               174 non-null    int64  \n",
      " 31  TB_Pass_Types               174 non-null    int64  \n",
      " 32  Press_Pass_Types            174 non-null    int64  \n",
      " 33  Sw_Pass_Types               174 non-null    int64  \n",
      " 34  Crs_Pass_Types              174 non-null    int64  \n",
      " 35  CK_Pass_Types               174 non-null    int64  \n",
      " 36  Int_Outcomes                174 non-null    int64  \n",
      " 37  Blocks_Outcomes             174 non-null    int64  \n",
      " 38  Tkl_Tackles                 174 non-null    int64  \n",
      " 39  TklW_Tackles                174 non-null    int64  \n",
      " 40  Def.3rd_Tackles             174 non-null    int64  \n",
      " 41  Mid.3rd_Tackles             174 non-null    int64  \n",
      " 42  Att.3rd_Tackles             174 non-null    int64  \n",
      " 43  Att_Vs_Dribbles             174 non-null    int64  \n",
      " 44  Tkl_percent_Vs_Dribbles     174 non-null    float64\n",
      " 45  Past_Vs_Dribbles            174 non-null    int64  \n",
      " 46  Press_Pressures             174 non-null    int64  \n",
      " 47  Succ_Pressures              174 non-null    int64  \n",
      " 48  Def.3rd_Pressures           174 non-null    int64  \n",
      " 49  Mid.3rd_Pressures           174 non-null    int64  \n",
      " 50  Att.3rd_Pressures           174 non-null    int64  \n",
      " 51  Sh_Blocks                   174 non-null    int64  \n",
      " 52  ShSv_Blocks                 174 non-null    int64  \n",
      " 53  Pass_Blocks                 174 non-null    int64  \n",
      " 54  Tkl.Int                     174 non-null    int64  \n",
      " 55  Clr                         174 non-null    int64  \n",
      " 56  Err                         174 non-null    int64  \n",
      " 57  Touches_Touches             174 non-null    int64  \n",
      " 58  Def.Pen_Touches             174 non-null    int64  \n",
      " 59  Def.3rd_Touches             174 non-null    int64  \n",
      " 60  Mid.3rd_Touches             174 non-null    int64  \n",
      " 61  Att.3rd_Touches             174 non-null    int64  \n",
      " 62  Att.Pen_Touches             174 non-null    int64  \n",
      " 63  Succ_percent_Dribbles       174 non-null    float64\n",
      " 64  PrgDist_Carries             174 non-null    int64  \n",
      " 65  Final_Third_Carries         174 non-null    int64  \n",
      " 66  CPA_Carries                 174 non-null    int64  \n",
      " 67  Mis_Carries                 174 non-null    int64  \n",
      " 68  Dis_Carries                 174 non-null    int64  \n",
      " 69  Fls                         174 non-null    int64  \n",
      " 70  Fld                         174 non-null    int64  \n",
      " 71  Off                         174 non-null    int64  \n",
      " 72  Crs                         174 non-null    int64  \n",
      " 73  TklW                        174 non-null    int64  \n",
      " 74  PKwon                       174 non-null    int64  \n",
      " 75  PKcon                       174 non-null    int64  \n",
      " 76  Won_percent_Aerial_Duels    174 non-null    float64\n",
      " 77  SoTA_Shot_Stopping          174 non-null    int64  \n",
      " 78  GA_Shot_Stopping            174 non-null    int64  \n",
      " 79  Save_percent_Shot_Stopping  174 non-null    float64\n",
      " 80  Stp_percent_Crosses         174 non-null    float64\n",
      " 81  SoT                         174 non-null    int64  \n",
      " 82  formation_class             174 non-null    int64  \n",
      " 83  win_nowin                   174 non-null    int64  \n",
      "dtypes: float64(15), int64(69)\n",
      "memory usage: 114.3 KB\n"
     ]
    }
   ],
   "source": [
    "#checking dataframe\n",
    "df.info()"
   ]
  },
  {
   "cell_type": "code",
   "execution_count": 94,
   "id": "2fda326b",
   "metadata": {},
   "outputs": [],
   "source": [
    "#defining feature and target columns\n",
    "target_col = 'win_nowin'\n",
    "feature_cols = [c for c in df.columns if c != target_col]\n",
    "\n",
    "X = df[feature_cols]\n",
    "y= df[target_col]"
   ]
  },
  {
   "cell_type": "code",
   "execution_count": 34,
   "id": "0cb65492",
   "metadata": {},
   "outputs": [
    {
     "name": "stdout",
     "output_type": "stream",
     "text": [
      "Optimal number of features : 7\n"
     ]
    },
    {
     "data": {
      "image/png": "[encoded data removed]",
      "text/plain": [
       "<Figure size 432x288 with 1 Axes>"
      ]
     },
     "metadata": {
      "needs_background": "light"
     },
     "output_type": "display_data"
    }
   ],
   "source": [
    "#feature selection using Recursive feature elimination with cross-validation to select the number of features.\n",
    "\n",
    "lr = LogisticRegression(solver='saga', C=100, random_state=100)\n",
    "min_features_to_select = 1  # Minimum number of features to consider\n",
    "rfecv = RFECV(\n",
    "    estimator=lr,\n",
    "    step=1,\n",
    "    cv=StratifiedKFold(2),\n",
    "    scoring=\"accuracy\",\n",
    "    min_features_to_select=min_features_to_select,\n",
    ")\n",
    "rfecv.fit(X, y)\n",
    "\n",
    "print(\"Optimal number of features : %d\" % rfecv.n_features_)\n",
    "\n",
    "# Plot number of features VS. cross-validation scores\n",
    "plt.figure()\n",
    "plt.xlabel(\"Number of features selected\")\n",
    "plt.ylabel(\"Cross validation score (accuracy)\")\n",
    "plt.plot(\n",
    "    range(min_features_to_select, len(rfecv.grid_scores_) + min_features_to_select),\n",
    "    rfecv.grid_scores_,\n",
    ")\n",
    "plt.show()"
   ]
  },
  {
   "cell_type": "code",
   "execution_count": 52,
   "id": "a0e4b30d",
   "metadata": {},
   "outputs": [
    {
     "name": "stdout",
     "output_type": "stream",
     "text": [
      "Features selected by forward sequential selection: [ 0  1  5  6  7  8  9 10 15 27 29 31 33 34 35 36 37 38 39 40 41 42 43 44\n",
      " 45 51 52 53 54 56 65 68 71 72 73 74 75 77 78 80 81]\n"
     ]
    }
   ],
   "source": [
    "# feature selection using Sequential Feature Selector \n",
    "\n",
    "lr = LogisticRegression(solver='saga', C=100, random_state=100)\n",
    "tic_fwd = time()\n",
    "sfs_forward = SequentialFeatureSelector(lr, n_features_to_select=None, direction=\"forward\").fit(X, y)\n",
    "toc_fwd = time()\n",
    "print(\n",
    "    \"Features selected by forward sequential selection: \"\n",
    "    f\"{sfs_forward.get_support([df.columns])}\"\n",
    ")"
   ]
  },
  {
   "cell_type": "code",
   "execution_count": 57,
   "id": "8b494f9a",
   "metadata": {},
   "outputs": [],
   "source": [
    "# filtering df using the features selected via SFS forward feature selection + adding win_nowin\n",
    "\n",
    "df2 = df.iloc[:,[0,  1,  5,  6,  7,  8,  9, 10, 15, 27, 29, 31, 33, 34, 35, 36, 37, 38, 39, 40, 41, 42, 43, 44,\n",
    " 45, 51, 52, 53, 54, 56, 65, 68, 71, 72, 73, 74, 75, 77, 78, 80, 81,83]]"
   ]
  },
  {
   "cell_type": "code",
   "execution_count": 114,
   "id": "392c51bb",
   "metadata": {},
   "outputs": [],
   "source": [
    "# re-defining feature and target columns\n",
    "target_col = 'win_nowin'\n",
    "feature_cols = [c for c in df2.columns if c != target_col]\n",
    "\n",
    "X = df2[feature_cols]\n",
    "y= df2[target_col]"
   ]
  },
  {
   "cell_type": "code",
   "execution_count": 61,
   "id": "f84a303d",
   "metadata": {},
   "outputs": [
    {
     "name": "stdout",
     "output_type": "stream",
     "text": [
      "<class 'pandas.core.frame.DataFrame'>\n",
      "RangeIndex: 174 entries, 0 to 173\n",
      "Data columns (total 41 columns):\n",
      " #   Column                   Non-Null Count  Dtype  \n",
      "---  ------                   --------------  -----  \n",
      " 0   xG                       174 non-null    float64\n",
      " 1   xGA                      174 non-null    float64\n",
      " 2   Tkl                      174 non-null    int64  \n",
      " 3   Int                      174 non-null    int64  \n",
      " 4   Blocks                   174 non-null    int64  \n",
      " 5   xG_Expected              174 non-null    float64\n",
      " 6   npxG_Expected            174 non-null    float64\n",
      " 7   xA_Expected              174 non-null    float64\n",
      " 8   Succ_Dribbles            174 non-null    int64  \n",
      " 9   CrsPA                    174 non-null    int64  \n",
      " 10  Dead_Pass_Types          174 non-null    int64  \n",
      " 11  TB_Pass_Types            174 non-null    int64  \n",
      " 12  Sw_Pass_Types            174 non-null    int64  \n",
      " 13  Crs_Pass_Types           174 non-null    int64  \n",
      " 14  CK_Pass_Types            174 non-null    int64  \n",
      " 15  Int_Outcomes             174 non-null    int64  \n",
      " 16  Blocks_Outcomes          174 non-null    int64  \n",
      " 17  Tkl_Tackles              174 non-null    int64  \n",
      " 18  TklW_Tackles             174 non-null    int64  \n",
      " 19  Def.3rd_Tackles          174 non-null    int64  \n",
      " 20  Mid.3rd_Tackles          174 non-null    int64  \n",
      " 21  Att.3rd_Tackles          174 non-null    int64  \n",
      " 22  Att_Vs_Dribbles          174 non-null    int64  \n",
      " 23  Tkl_percent_Vs_Dribbles  174 non-null    float64\n",
      " 24  Past_Vs_Dribbles         174 non-null    int64  \n",
      " 25  Sh_Blocks                174 non-null    int64  \n",
      " 26  ShSv_Blocks              174 non-null    int64  \n",
      " 27  Pass_Blocks              174 non-null    int64  \n",
      " 28  Tkl.Int                  174 non-null    int64  \n",
      " 29  Err                      174 non-null    int64  \n",
      " 30  Final_Third_Carries      174 non-null    int64  \n",
      " 31  Dis_Carries              174 non-null    int64  \n",
      " 32  Off                      174 non-null    int64  \n",
      " 33  Crs                      174 non-null    int64  \n",
      " 34  TklW                     174 non-null    int64  \n",
      " 35  PKwon                    174 non-null    int64  \n",
      " 36  PKcon                    174 non-null    int64  \n",
      " 37  SoTA_Shot_Stopping       174 non-null    int64  \n",
      " 38  GA_Shot_Stopping         174 non-null    int64  \n",
      " 39  Stp_percent_Crosses      174 non-null    float64\n",
      " 40  SoT                      174 non-null    int64  \n",
      "dtypes: float64(7), int64(34)\n",
      "memory usage: 55.9 KB\n"
     ]
    }
   ],
   "source": [
    "X.info()"
   ]
  },
  {
   "cell_type": "code",
   "execution_count": 62,
   "id": "a6639c69",
   "metadata": {},
   "outputs": [
    {
     "data": {
      "text/plain": [
       "1    93\n",
       "0    81\n",
       "Name: win_nowin, dtype: int64"
      ]
     },
     "execution_count": 62,
     "metadata": {},
     "output_type": "execute_result"
    }
   ],
   "source": [
    "y.value_counts()"
   ]
  },
  {
   "cell_type": "code",
   "execution_count": 63,
   "id": "aca0bc32",
   "metadata": {},
   "outputs": [],
   "source": [
    "# splitting test and train \n",
    "X_train, X_test, y_train, y_test = train_test_split(X, y, test_size=0.2, random_state=100)"
   ]
  },
  {
   "cell_type": "code",
   "execution_count": 64,
   "id": "6166bb5d",
   "metadata": {},
   "outputs": [
    {
     "data": {
      "text/plain": [
       "LogisticRegression(C=100, random_state=100, solver='saga')"
      ]
     },
     "execution_count": 64,
     "metadata": {},
     "output_type": "execute_result"
    }
   ],
   "source": [
    "# fitting model using training data \n",
    "lr = LogisticRegression(solver='saga', C=100, random_state=100)\n",
    "lr.fit(X_train, y_train)"
   ]
  },
  {
   "cell_type": "code",
   "execution_count": 68,
   "id": "9c4a40e3",
   "metadata": {},
   "outputs": [
    {
     "name": "stdout",
     "output_type": "stream",
     "text": [
      "Mean Accuracy: 0.762 (0.101)\n"
     ]
    },
    {
     "name": "stderr",
     "output_type": "stream",
     "text": [
      "/Users/z3433848/opt/anaconda3/lib/python3.9/site-packages/sklearn/linear_model/_sag.py:328: ConvergenceWarning: The max_iter was reached which means the coef_ did not converge\n",
      "  warnings.warn(\"The max_iter was reached which means \"\n",
      "/Users/z3433848/opt/anaconda3/lib/python3.9/site-packages/sklearn/linear_model/_sag.py:328: ConvergenceWarning: The max_iter was reached which means the coef_ did not converge\n",
      "  warnings.warn(\"The max_iter was reached which means \"\n",
      "/Users/z3433848/opt/anaconda3/lib/python3.9/site-packages/sklearn/linear_model/_sag.py:328: ConvergenceWarning: The max_iter was reached which means the coef_ did not converge\n",
      "  warnings.warn(\"The max_iter was reached which means \"\n",
      "/Users/z3433848/opt/anaconda3/lib/python3.9/site-packages/sklearn/linear_model/_sag.py:328: ConvergenceWarning: The max_iter was reached which means the coef_ did not converge\n",
      "  warnings.warn(\"The max_iter was reached which means \"\n",
      "/Users/z3433848/opt/anaconda3/lib/python3.9/site-packages/sklearn/linear_model/_sag.py:328: ConvergenceWarning: The max_iter was reached which means the coef_ did not converge\n",
      "  warnings.warn(\"The max_iter was reached which means \"\n",
      "/Users/z3433848/opt/anaconda3/lib/python3.9/site-packages/sklearn/linear_model/_sag.py:328: ConvergenceWarning: The max_iter was reached which means the coef_ did not converge\n",
      "  warnings.warn(\"The max_iter was reached which means \"\n",
      "/Users/z3433848/opt/anaconda3/lib/python3.9/site-packages/sklearn/linear_model/_sag.py:328: ConvergenceWarning: The max_iter was reached which means the coef_ did not converge\n",
      "  warnings.warn(\"The max_iter was reached which means \"\n",
      "/Users/z3433848/opt/anaconda3/lib/python3.9/site-packages/sklearn/linear_model/_sag.py:328: ConvergenceWarning: The max_iter was reached which means the coef_ did not converge\n",
      "  warnings.warn(\"The max_iter was reached which means \"\n",
      "/Users/z3433848/opt/anaconda3/lib/python3.9/site-packages/sklearn/linear_model/_sag.py:328: ConvergenceWarning: The max_iter was reached which means the coef_ did not converge\n",
      "  warnings.warn(\"The max_iter was reached which means \"\n",
      "/Users/z3433848/opt/anaconda3/lib/python3.9/site-packages/sklearn/linear_model/_sag.py:328: ConvergenceWarning: The max_iter was reached which means the coef_ did not converge\n",
      "  warnings.warn(\"The max_iter was reached which means \"\n",
      "/Users/z3433848/opt/anaconda3/lib/python3.9/site-packages/sklearn/linear_model/_sag.py:328: ConvergenceWarning: The max_iter was reached which means the coef_ did not converge\n",
      "  warnings.warn(\"The max_iter was reached which means \"\n",
      "/Users/z3433848/opt/anaconda3/lib/python3.9/site-packages/sklearn/linear_model/_sag.py:328: ConvergenceWarning: The max_iter was reached which means the coef_ did not converge\n",
      "  warnings.warn(\"The max_iter was reached which means \"\n",
      "/Users/z3433848/opt/anaconda3/lib/python3.9/site-packages/sklearn/linear_model/_sag.py:328: ConvergenceWarning: The max_iter was reached which means the coef_ did not converge\n",
      "  warnings.warn(\"The max_iter was reached which means \"\n",
      "/Users/z3433848/opt/anaconda3/lib/python3.9/site-packages/sklearn/linear_model/_sag.py:328: ConvergenceWarning: The max_iter was reached which means the coef_ did not converge\n",
      "  warnings.warn(\"The max_iter was reached which means \"\n",
      "/Users/z3433848/opt/anaconda3/lib/python3.9/site-packages/sklearn/linear_model/_sag.py:328: ConvergenceWarning: The max_iter was reached which means the coef_ did not converge\n",
      "  warnings.warn(\"The max_iter was reached which means \"\n",
      "/Users/z3433848/opt/anaconda3/lib/python3.9/site-packages/sklearn/linear_model/_sag.py:328: ConvergenceWarning: The max_iter was reached which means the coef_ did not converge\n",
      "  warnings.warn(\"The max_iter was reached which means \"\n",
      "/Users/z3433848/opt/anaconda3/lib/python3.9/site-packages/sklearn/linear_model/_sag.py:328: ConvergenceWarning: The max_iter was reached which means the coef_ did not converge\n",
      "  warnings.warn(\"The max_iter was reached which means \"\n",
      "/Users/z3433848/opt/anaconda3/lib/python3.9/site-packages/sklearn/linear_model/_sag.py:328: ConvergenceWarning: The max_iter was reached which means the coef_ did not converge\n",
      "  warnings.warn(\"The max_iter was reached which means \"\n",
      "/Users/z3433848/opt/anaconda3/lib/python3.9/site-packages/sklearn/linear_model/_sag.py:328: ConvergenceWarning: The max_iter was reached which means the coef_ did not converge\n",
      "  warnings.warn(\"The max_iter was reached which means \"\n",
      "/Users/z3433848/opt/anaconda3/lib/python3.9/site-packages/sklearn/linear_model/_sag.py:328: ConvergenceWarning: The max_iter was reached which means the coef_ did not converge\n",
      "  warnings.warn(\"The max_iter was reached which means \"\n",
      "/Users/z3433848/opt/anaconda3/lib/python3.9/site-packages/sklearn/linear_model/_sag.py:328: ConvergenceWarning: The max_iter was reached which means the coef_ did not converge\n",
      "  warnings.warn(\"The max_iter was reached which means \"\n",
      "/Users/z3433848/opt/anaconda3/lib/python3.9/site-packages/sklearn/linear_model/_sag.py:328: ConvergenceWarning: The max_iter was reached which means the coef_ did not converge\n",
      "  warnings.warn(\"The max_iter was reached which means \"\n",
      "/Users/z3433848/opt/anaconda3/lib/python3.9/site-packages/sklearn/linear_model/_sag.py:328: ConvergenceWarning: The max_iter was reached which means the coef_ did not converge\n",
      "  warnings.warn(\"The max_iter was reached which means \"\n",
      "/Users/z3433848/opt/anaconda3/lib/python3.9/site-packages/sklearn/linear_model/_sag.py:328: ConvergenceWarning: The max_iter was reached which means the coef_ did not converge\n",
      "  warnings.warn(\"The max_iter was reached which means \"\n",
      "/Users/z3433848/opt/anaconda3/lib/python3.9/site-packages/sklearn/linear_model/_sag.py:328: ConvergenceWarning: The max_iter was reached which means the coef_ did not converge\n",
      "  warnings.warn(\"The max_iter was reached which means \"\n",
      "/Users/z3433848/opt/anaconda3/lib/python3.9/site-packages/sklearn/linear_model/_sag.py:328: ConvergenceWarning: The max_iter was reached which means the coef_ did not converge\n",
      "  warnings.warn(\"The max_iter was reached which means \"\n",
      "/Users/z3433848/opt/anaconda3/lib/python3.9/site-packages/sklearn/linear_model/_sag.py:328: ConvergenceWarning: The max_iter was reached which means the coef_ did not converge\n",
      "  warnings.warn(\"The max_iter was reached which means \"\n",
      "/Users/z3433848/opt/anaconda3/lib/python3.9/site-packages/sklearn/linear_model/_sag.py:328: ConvergenceWarning: The max_iter was reached which means the coef_ did not converge\n",
      "  warnings.warn(\"The max_iter was reached which means \"\n",
      "/Users/z3433848/opt/anaconda3/lib/python3.9/site-packages/sklearn/linear_model/_sag.py:328: ConvergenceWarning: The max_iter was reached which means the coef_ did not converge\n",
      "  warnings.warn(\"The max_iter was reached which means \"\n",
      "/Users/z3433848/opt/anaconda3/lib/python3.9/site-packages/sklearn/linear_model/_sag.py:328: ConvergenceWarning: The max_iter was reached which means the coef_ did not converge\n",
      "  warnings.warn(\"The max_iter was reached which means \"\n"
     ]
    }
   ],
   "source": [
    "# Cross-validate the data using Repeatead Stratified K Fold (10 splits)\n",
    "\n",
    "cv = RepeatedStratifiedKFold(n_splits=10, n_repeats=3, random_state=1)\n",
    "# evaluate the model and collect the scores\n",
    "n_scores = cross_val_score(lr, X, y, scoring='accuracy', cv=cv, n_jobs=-1)\n",
    "# report the model performance\n",
    "print('Mean Accuracy: %.3f (%.3f)' % (np.mean(n_scores), np.std(n_scores)))"
   ]
  },
  {
   "cell_type": "code",
   "execution_count": 69,
   "id": "44c766a1",
   "metadata": {},
   "outputs": [
    {
     "name": "stdout",
     "output_type": "stream",
     "text": [
      "[0.66666667 0.83333333 0.66666667 0.77777778 0.64705882 0.88235294\n",
      " 0.76470588 0.76470588 0.76470588 0.88235294 0.66666667 0.72222222\n",
      " 1.         0.72222222 0.52941176 0.82352941 0.64705882 0.88235294\n",
      " 0.88235294 0.76470588 0.77777778 0.83333333 0.66666667 0.83333333\n",
      " 0.70588235 0.58823529 0.82352941 0.76470588 0.70588235 0.88235294]\n"
     ]
    }
   ],
   "source": [
    "print(n_scores)"
   ]
  },
  {
   "cell_type": "code",
   "execution_count": 71,
   "id": "447eaf2c",
   "metadata": {},
   "outputs": [
    {
     "name": "stdout",
     "output_type": "stream",
     "text": [
      "Accuracy score = 0.7142857142857143\n",
      "              precision    recall  f1-score   support\n",
      "\n",
      "           0       0.53      0.73      0.62        11\n",
      "           1       0.85      0.71      0.77        24\n",
      "\n",
      "    accuracy                           0.71        35\n",
      "   macro avg       0.69      0.72      0.69        35\n",
      "weighted avg       0.75      0.71      0.72        35\n",
      "\n"
     ]
    },
    {
     "data": {
      "image/png": "[encoded data removed]",
      "text/plain": [
       "<Figure size 432x288 with 2 Axes>"
      ]
     },
     "metadata": {
      "needs_background": "light"
     },
     "output_type": "display_data"
    }
   ],
   "source": [
    "y_pred_lr = lr.predict(X_test)\n",
    "ac = accuracy_score(y_test,y_pred_lr)\n",
    "print('Accuracy score =',ac)\n",
    "cm = confusion_matrix(y_test, y_pred_lr)\n",
    "s= sns.heatmap(cm,annot=True,fmt=\"d\")\n",
    "s.set(xlabel='Actual', ylabel='Predicted')\n",
    "print(classification_report(y_test, y_pred_lr))"
   ]
  },
  {
   "cell_type": "code",
   "execution_count": 82,
   "id": "fb99f5d9",
   "metadata": {},
   "outputs": [],
   "source": [
    "def plot_roc_curve(X_test, y_test):\n",
    "    # Generate the prediction values for each of the test observations using predict_proba() function rather than just predict\n",
    "    preds = lr.predict_proba(X_test)[:,1]\n",
    "\n",
    "    # Store the false positive rate(fpr), true positive rate (tpr) in vectors for use in the graph\n",
    "    fpr, tpr, _ = metrics.roc_curve(y_test, preds)\n",
    "\n",
    "    # Store the Area Under the Curve (AUC) so we can annotate our graph with theis metric\n",
    "    roc_auc = metrics.auc(fpr, tpr)\n",
    "\n",
    "    # Plot the ROC Curve\n",
    "    plt.figure()\n",
    "    lw = 2\n",
    "    plt.plot(fpr, tpr, color='darkorange', lw = lw, label = 'ROC curve (area = %0.2f)' % roc_auc)\n",
    "    plt.plot([0, 1], [0, 1], color = 'navy', lw = lw, linestyle = '--')\n",
    "    plt.xlim([0.0, 1.0])\n",
    "    plt.ylim([0.0, 1.0])\n",
    "    plt.xlabel('False Positive Rate')\n",
    "    plt.ylabel('True Positive Rate')\n",
    "    plt.title('Receiver operating characteristic for Logistic Regression')\n",
    "    plt.legend(loc = \"lower right\")\n",
    "    plt.show()"
   ]
  },
  {
   "cell_type": "code",
   "execution_count": 83,
   "id": "37ff02bb",
   "metadata": {},
   "outputs": [
    {
     "data": {
      "image/png": "[encoded data removed]",
      "text/plain": [
       "<Figure size 432x288 with 1 Axes>"
      ]
     },
     "metadata": {
      "needs_background": "light"
     },
     "output_type": "display_data"
    }
   ],
   "source": [
    "# Area under ROC for test data \n",
    "plot_roc_curve(X_test, y_test)"
   ]
  },
  {
   "cell_type": "code",
   "execution_count": 97,
   "id": "d7e3ce82",
   "metadata": {},
   "outputs": [
    {
     "name": "stdout",
     "output_type": "stream",
     "text": [
      "Iteration: \t1 / 100\n",
      "Confirmed: \t0\n",
      "Tentative: \t83\n",
      "Rejected: \t0\n",
      "Iteration: \t2 / 100\n",
      "Confirmed: \t0\n",
      "Tentative: \t83\n",
      "Rejected: \t0\n",
      "Iteration: \t3 / 100\n",
      "Confirmed: \t0\n",
      "Tentative: \t83\n",
      "Rejected: \t0\n",
      "Iteration: \t4 / 100\n",
      "Confirmed: \t0\n",
      "Tentative: \t83\n",
      "Rejected: \t0\n",
      "Iteration: \t5 / 100\n",
      "Confirmed: \t0\n",
      "Tentative: \t83\n",
      "Rejected: \t0\n",
      "Iteration: \t6 / 100\n",
      "Confirmed: \t0\n",
      "Tentative: \t83\n",
      "Rejected: \t0\n",
      "Iteration: \t7 / 100\n",
      "Confirmed: \t0\n",
      "Tentative: \t83\n",
      "Rejected: \t0\n",
      "Iteration: \t8 / 100\n",
      "Confirmed: \t0\n",
      "Tentative: \t16\n",
      "Rejected: \t67\n",
      "Iteration: \t9 / 100\n",
      "Confirmed: \t3\n",
      "Tentative: \t13\n",
      "Rejected: \t67\n",
      "Iteration: \t10 / 100\n",
      "Confirmed: \t3\n",
      "Tentative: \t13\n",
      "Rejected: \t67\n",
      "Iteration: \t11 / 100\n",
      "Confirmed: \t3\n",
      "Tentative: \t13\n",
      "Rejected: \t67\n",
      "Iteration: \t12 / 100\n",
      "Confirmed: \t6\n",
      "Tentative: \t8\n",
      "Rejected: \t69\n",
      "Iteration: \t13 / 100\n",
      "Confirmed: \t6\n",
      "Tentative: \t8\n",
      "Rejected: \t69\n",
      "Iteration: \t14 / 100\n",
      "Confirmed: \t6\n",
      "Tentative: \t8\n",
      "Rejected: \t69\n",
      "Iteration: \t15 / 100\n",
      "Confirmed: \t6\n",
      "Tentative: \t8\n",
      "Rejected: \t69\n",
      "Iteration: \t16 / 100\n",
      "Confirmed: \t8\n",
      "Tentative: \t6\n",
      "Rejected: \t69\n",
      "Iteration: \t17 / 100\n",
      "Confirmed: \t8\n",
      "Tentative: \t6\n",
      "Rejected: \t69\n",
      "Iteration: \t18 / 100\n",
      "Confirmed: \t8\n",
      "Tentative: \t6\n",
      "Rejected: \t69\n",
      "Iteration: \t19 / 100\n",
      "Confirmed: \t8\n",
      "Tentative: \t5\n",
      "Rejected: \t70\n",
      "Iteration: \t20 / 100\n",
      "Confirmed: \t8\n",
      "Tentative: \t5\n",
      "Rejected: \t70\n",
      "Iteration: \t21 / 100\n",
      "Confirmed: \t8\n",
      "Tentative: \t5\n",
      "Rejected: \t70\n",
      "Iteration: \t22 / 100\n",
      "Confirmed: \t8\n",
      "Tentative: \t5\n",
      "Rejected: \t70\n",
      "Iteration: \t23 / 100\n",
      "Confirmed: \t8\n",
      "Tentative: \t5\n",
      "Rejected: \t70\n",
      "Iteration: \t24 / 100\n",
      "Confirmed: \t8\n",
      "Tentative: \t5\n",
      "Rejected: \t70\n",
      "Iteration: \t25 / 100\n",
      "Confirmed: \t8\n",
      "Tentative: \t5\n",
      "Rejected: \t70\n",
      "Iteration: \t26 / 100\n",
      "Confirmed: \t8\n",
      "Tentative: \t5\n",
      "Rejected: \t70\n",
      "Iteration: \t27 / 100\n",
      "Confirmed: \t8\n",
      "Tentative: \t5\n",
      "Rejected: \t70\n",
      "Iteration: \t28 / 100\n",
      "Confirmed: \t8\n",
      "Tentative: \t5\n",
      "Rejected: \t70\n",
      "Iteration: \t29 / 100\n",
      "Confirmed: \t8\n",
      "Tentative: \t5\n",
      "Rejected: \t70\n",
      "Iteration: \t30 / 100\n",
      "Confirmed: \t8\n",
      "Tentative: \t5\n",
      "Rejected: \t70\n",
      "Iteration: \t31 / 100\n",
      "Confirmed: \t8\n",
      "Tentative: \t5\n",
      "Rejected: \t70\n",
      "Iteration: \t32 / 100\n",
      "Confirmed: \t8\n",
      "Tentative: \t5\n",
      "Rejected: \t70\n",
      "Iteration: \t33 / 100\n",
      "Confirmed: \t8\n",
      "Tentative: \t5\n",
      "Rejected: \t70\n",
      "Iteration: \t34 / 100\n",
      "Confirmed: \t8\n",
      "Tentative: \t5\n",
      "Rejected: \t70\n",
      "Iteration: \t35 / 100\n",
      "Confirmed: \t8\n",
      "Tentative: \t5\n",
      "Rejected: \t70\n",
      "Iteration: \t36 / 100\n",
      "Confirmed: \t8\n",
      "Tentative: \t5\n",
      "Rejected: \t70\n",
      "Iteration: \t37 / 100\n",
      "Confirmed: \t8\n",
      "Tentative: \t5\n",
      "Rejected: \t70\n",
      "Iteration: \t38 / 100\n",
      "Confirmed: \t8\n",
      "Tentative: \t5\n",
      "Rejected: \t70\n",
      "Iteration: \t39 / 100\n",
      "Confirmed: \t8\n",
      "Tentative: \t5\n",
      "Rejected: \t70\n",
      "Iteration: \t40 / 100\n",
      "Confirmed: \t8\n",
      "Tentative: \t5\n",
      "Rejected: \t70\n",
      "Iteration: \t41 / 100\n",
      "Confirmed: \t8\n",
      "Tentative: \t5\n",
      "Rejected: \t70\n",
      "Iteration: \t42 / 100\n",
      "Confirmed: \t8\n",
      "Tentative: \t5\n",
      "Rejected: \t70\n",
      "Iteration: \t43 / 100\n",
      "Confirmed: \t8\n",
      "Tentative: \t5\n",
      "Rejected: \t70\n",
      "Iteration: \t44 / 100\n",
      "Confirmed: \t8\n",
      "Tentative: \t5\n",
      "Rejected: \t70\n",
      "Iteration: \t45 / 100\n",
      "Confirmed: \t8\n",
      "Tentative: \t5\n",
      "Rejected: \t70\n",
      "Iteration: \t46 / 100\n",
      "Confirmed: \t8\n",
      "Tentative: \t5\n",
      "Rejected: \t70\n",
      "Iteration: \t47 / 100\n",
      "Confirmed: \t8\n",
      "Tentative: \t5\n",
      "Rejected: \t70\n",
      "Iteration: \t48 / 100\n",
      "Confirmed: \t8\n",
      "Tentative: \t5\n",
      "Rejected: \t70\n",
      "Iteration: \t49 / 100\n",
      "Confirmed: \t8\n",
      "Tentative: \t5\n",
      "Rejected: \t70\n",
      "Iteration: \t50 / 100\n",
      "Confirmed: \t8\n",
      "Tentative: \t5\n",
      "Rejected: \t70\n",
      "Iteration: \t51 / 100\n",
      "Confirmed: \t8\n",
      "Tentative: \t5\n",
      "Rejected: \t70\n",
      "Iteration: \t52 / 100\n",
      "Confirmed: \t8\n",
      "Tentative: \t5\n",
      "Rejected: \t70\n",
      "Iteration: \t53 / 100\n",
      "Confirmed: \t8\n",
      "Tentative: \t5\n",
      "Rejected: \t70\n",
      "Iteration: \t54 / 100\n",
      "Confirmed: \t8\n",
      "Tentative: \t5\n",
      "Rejected: \t70\n",
      "Iteration: \t55 / 100\n",
      "Confirmed: \t8\n",
      "Tentative: \t5\n",
      "Rejected: \t70\n",
      "Iteration: \t56 / 100\n",
      "Confirmed: \t8\n",
      "Tentative: \t5\n",
      "Rejected: \t70\n",
      "Iteration: \t57 / 100\n",
      "Confirmed: \t8\n",
      "Tentative: \t5\n",
      "Rejected: \t70\n",
      "Iteration: \t58 / 100\n",
      "Confirmed: \t8\n",
      "Tentative: \t5\n",
      "Rejected: \t70\n",
      "Iteration: \t59 / 100\n",
      "Confirmed: \t8\n",
      "Tentative: \t5\n",
      "Rejected: \t70\n",
      "Iteration: \t60 / 100\n",
      "Confirmed: \t8\n",
      "Tentative: \t5\n",
      "Rejected: \t70\n",
      "Iteration: \t61 / 100\n",
      "Confirmed: \t8\n",
      "Tentative: \t5\n",
      "Rejected: \t70\n",
      "Iteration: \t62 / 100\n",
      "Confirmed: \t8\n",
      "Tentative: \t5\n",
      "Rejected: \t70\n",
      "Iteration: \t63 / 100\n",
      "Confirmed: \t8\n",
      "Tentative: \t5\n",
      "Rejected: \t70\n",
      "Iteration: \t64 / 100\n",
      "Confirmed: \t8\n",
      "Tentative: \t5\n",
      "Rejected: \t70\n",
      "Iteration: \t65 / 100\n",
      "Confirmed: \t8\n",
      "Tentative: \t5\n",
      "Rejected: \t70\n",
      "Iteration: \t66 / 100\n",
      "Confirmed: \t8\n",
      "Tentative: \t5\n",
      "Rejected: \t70\n",
      "Iteration: \t67 / 100\n",
      "Confirmed: \t8\n",
      "Tentative: \t5\n",
      "Rejected: \t70\n",
      "Iteration: \t68 / 100\n",
      "Confirmed: \t8\n",
      "Tentative: \t5\n",
      "Rejected: \t70\n",
      "Iteration: \t69 / 100\n",
      "Confirmed: \t8\n",
      "Tentative: \t5\n",
      "Rejected: \t70\n",
      "Iteration: \t70 / 100\n",
      "Confirmed: \t8\n",
      "Tentative: \t5\n",
      "Rejected: \t70\n",
      "Iteration: \t71 / 100\n",
      "Confirmed: \t8\n",
      "Tentative: \t5\n",
      "Rejected: \t70\n",
      "Iteration: \t72 / 100\n",
      "Confirmed: \t8\n",
      "Tentative: \t5\n",
      "Rejected: \t70\n",
      "Iteration: \t73 / 100\n",
      "Confirmed: \t8\n",
      "Tentative: \t5\n",
      "Rejected: \t70\n",
      "Iteration: \t74 / 100\n",
      "Confirmed: \t8\n",
      "Tentative: \t5\n",
      "Rejected: \t70\n",
      "Iteration: \t75 / 100\n",
      "Confirmed: \t8\n",
      "Tentative: \t5\n",
      "Rejected: \t70\n",
      "Iteration: \t76 / 100\n",
      "Confirmed: \t8\n",
      "Tentative: \t5\n",
      "Rejected: \t70\n",
      "Iteration: \t77 / 100\n",
      "Confirmed: \t8\n",
      "Tentative: \t5\n",
      "Rejected: \t70\n",
      "Iteration: \t78 / 100\n",
      "Confirmed: \t8\n",
      "Tentative: \t5\n",
      "Rejected: \t70\n",
      "Iteration: \t79 / 100\n",
      "Confirmed: \t8\n",
      "Tentative: \t5\n",
      "Rejected: \t70\n",
      "Iteration: \t80 / 100\n",
      "Confirmed: \t8\n",
      "Tentative: \t5\n",
      "Rejected: \t70\n",
      "Iteration: \t81 / 100\n",
      "Confirmed: \t8\n",
      "Tentative: \t5\n",
      "Rejected: \t70\n",
      "Iteration: \t82 / 100\n",
      "Confirmed: \t8\n",
      "Tentative: \t5\n",
      "Rejected: \t70\n",
      "Iteration: \t83 / 100\n",
      "Confirmed: \t8\n",
      "Tentative: \t5\n",
      "Rejected: \t70\n",
      "Iteration: \t84 / 100\n",
      "Confirmed: \t8\n",
      "Tentative: \t5\n",
      "Rejected: \t70\n",
      "Iteration: \t85 / 100\n",
      "Confirmed: \t8\n",
      "Tentative: \t5\n",
      "Rejected: \t70\n",
      "Iteration: \t86 / 100\n",
      "Confirmed: \t8\n",
      "Tentative: \t5\n",
      "Rejected: \t70\n",
      "Iteration: \t87 / 100\n",
      "Confirmed: \t8\n",
      "Tentative: \t5\n",
      "Rejected: \t70\n",
      "Iteration: \t88 / 100\n",
      "Confirmed: \t8\n",
      "Tentative: \t5\n",
      "Rejected: \t70\n",
      "Iteration: \t89 / 100\n",
      "Confirmed: \t8\n",
      "Tentative: \t5\n",
      "Rejected: \t70\n",
      "Iteration: \t90 / 100\n",
      "Confirmed: \t8\n",
      "Tentative: \t5\n",
      "Rejected: \t70\n",
      "Iteration: \t91 / 100\n",
      "Confirmed: \t8\n",
      "Tentative: \t5\n",
      "Rejected: \t70\n",
      "Iteration: \t92 / 100\n",
      "Confirmed: \t8\n",
      "Tentative: \t5\n",
      "Rejected: \t70\n",
      "Iteration: \t93 / 100\n",
      "Confirmed: \t8\n",
      "Tentative: \t5\n",
      "Rejected: \t70\n",
      "Iteration: \t94 / 100\n",
      "Confirmed: \t8\n",
      "Tentative: \t5\n",
      "Rejected: \t70\n",
      "Iteration: \t95 / 100\n",
      "Confirmed: \t8\n",
      "Tentative: \t5\n",
      "Rejected: \t70\n",
      "Iteration: \t96 / 100\n",
      "Confirmed: \t8\n",
      "Tentative: \t5\n",
      "Rejected: \t70\n",
      "Iteration: \t97 / 100\n",
      "Confirmed: \t8\n",
      "Tentative: \t5\n",
      "Rejected: \t70\n",
      "Iteration: \t98 / 100\n",
      "Confirmed: \t8\n",
      "Tentative: \t5\n",
      "Rejected: \t70\n",
      "Iteration: \t99 / 100\n",
      "Confirmed: \t8\n",
      "Tentative: \t5\n",
      "Rejected: \t70\n",
      "\n",
      "\n",
      "BorutaPy finished running.\n",
      "\n",
      "Iteration: \t100 / 100\n",
      "Confirmed: \t8\n",
      "Tentative: \t4\n",
      "Rejected: \t70\n"
     ]
    }
   ],
   "source": [
    "# use Brutapy to find features for Random Forest Classifier \n",
    "\n",
    "# load X and y\n",
    "# NOTE BorutaPy accepts numpy arrays only, hence the .values attribute\n",
    "X = df[feature_cols].values\n",
    "y= df[target_col].values\n",
    "\n",
    "# define random forest classifier, with utilising all cores and\n",
    "# sampling in proportion to y labels\n",
    "forest = RandomForestClassifier(n_jobs=-1, class_weight='balanced')\n",
    "\n",
    "# define Boruta feature selection method\n",
    "feat_selector = BorutaPy(forest, n_estimators='auto', verbose=2)\n",
    "\n",
    "# find all relevant features\n",
    "feat_selector.fit(X, y)\n",
    "\n",
    "# check selected features\n",
    "feat_selector.support_\n",
    "\n",
    "# check ranking of features\n",
    "feat_selector.ranking_\n",
    "\n",
    "# call transform() on X to filter it down to selected features\n",
    "X_filtered = feat_selector.transform(X)"
   ]
  },
  {
   "cell_type": "code",
   "execution_count": 100,
   "id": "f8c376f5",
   "metadata": {
    "scrolled": true
   },
   "outputs": [
    {
     "data": {
      "text/plain": [
       "array([ True, False, False, False, False, False, False, False,  True,\n",
       "       False,  True, False, False, False, False, False, False, False,\n",
       "       False, False, False, False, False, False, False, False, False,\n",
       "       False, False, False, False, False, False, False,  True, False,\n",
       "       False, False, False, False, False, False, False, False, False,\n",
       "       False, False, False, False, False, False, False, False, False,\n",
       "       False, False, False, False, False, False, False, False, False,\n",
       "       False, False, False, False, False, False, False, False, False,\n",
       "        True, False, False, False, False, False,  True,  True, False,\n",
       "        True, False])"
      ]
     },
     "execution_count": 100,
     "metadata": {},
     "output_type": "execute_result"
    }
   ],
   "source": [
    "# check selected features\n",
    "feat_selector.support_\n"
   ]
  },
  {
   "cell_type": "code",
   "execution_count": 101,
   "id": "3eebfcff",
   "metadata": {},
   "outputs": [
    {
     "data": {
      "text/plain": [
       "array([[  1.3,   1.3,   1.1, ...,   3. ,  40. ,   6. ],\n",
       "       [  0.8,   0.8,   0.7, ...,   1. ,  80. ,   2. ],\n",
       "       [  1.1,   1.1,   0.9, ...,   0. ,  66.7,   7. ],\n",
       "       ...,\n",
       "       [  0.5,   0.6,   0.5, ...,   1. ,  83.3,   1. ],\n",
       "       [  0.7,   0.7,   0.5, ...,   1. ,  50. ,   3. ],\n",
       "       [  0.9,   0.9,   0.9, ...,   0. , 100. ,   7. ]])"
      ]
     },
     "execution_count": 101,
     "metadata": {},
     "output_type": "execute_result"
    }
   ],
   "source": [
    "# call transform() on X to filter it down to selected features\n",
    "X_filtered"
   ]
  },
  {
   "cell_type": "code",
   "execution_count": 103,
   "id": "01fa36c9",
   "metadata": {},
   "outputs": [
    {
     "data": {
      "text/plain": [
       "(174, 8)"
      ]
     },
     "execution_count": 103,
     "metadata": {},
     "output_type": "execute_result"
    }
   ],
   "source": [
    "X_filtered.shape"
   ]
  },
  {
   "cell_type": "code",
   "execution_count": 102,
   "id": "63fc8fa1",
   "metadata": {},
   "outputs": [
    {
     "data": {
      "text/plain": [
       "array([ 1,  3, 28, 34, 40, 29, 32, 48,  1,  2,  1, 53,  2, 55, 15, 64, 45,\n",
       "        4, 63, 30, 32,  5, 34,  5, 23, 17, 25, 70, 48, 10, 65, 58, 27, 17,\n",
       "        1, 19, 51, 13, 25, 51, 42, 46, 66, 57, 42, 51, 44, 61, 22, 14, 20,\n",
       "       61, 72, 61, 38, 11, 69, 54, 36, 31, 16, 12,  9,  8,  2, 39, 42, 23,\n",
       "       55, 37, 58, 21,  1, 46, 71, 73,  7,  2,  1,  1, 67,  1, 68])"
      ]
     },
     "execution_count": 102,
     "metadata": {},
     "output_type": "execute_result"
    }
   ],
   "source": [
    "# check ranking of features\n",
    "feat_selector.ranking_"
   ]
  },
  {
   "cell_type": "code",
   "execution_count": 105,
   "id": "57fc11f8",
   "metadata": {},
   "outputs": [],
   "source": [
    "# Splitting test and training data using the filtered X values \n",
    "X_train, X_test, y_train, y_test = train_test_split(X_filtered, y, test_size=0.2, random_state=100, stratify = y)"
   ]
  },
  {
   "cell_type": "code",
   "execution_count": 106,
   "id": "5c8b22cd",
   "metadata": {},
   "outputs": [
    {
     "name": "stdout",
     "output_type": "stream",
     "text": [
      "RandomForestClassifier()\n"
     ]
    }
   ],
   "source": [
    "# Define Random Forest Classifier Model \n",
    "model = RandomForestClassifier()\n",
    "print(model)"
   ]
  },
  {
   "cell_type": "code",
   "execution_count": 107,
   "id": "25e431d2",
   "metadata": {},
   "outputs": [
    {
     "data": {
      "text/plain": [
       "RandomForestClassifier()"
      ]
     },
     "execution_count": 107,
     "metadata": {},
     "output_type": "execute_result"
    }
   ],
   "source": [
    "# Fit Random Forest Classifier \n",
    "model.fit(X_train, y_train)"
   ]
  },
  {
   "cell_type": "code",
   "execution_count": 108,
   "id": "03190fd6",
   "metadata": {},
   "outputs": [],
   "source": [
    "# Defining function to show summary report \n",
    "def show_summary_report(actual, prediction, probabilities):\n",
    "\n",
    "    if isinstance(actual, pd.Series):\n",
    "        actual = actual.values.astype(int)\n",
    "    prediction = prediction.astype(int)\n",
    "\n",
    "    print('Accuracy : %.4f [TP / N] Proportion of predicted labels that match the true labels. Best: 1, Worst: 0' % accuracy_score(actual, prediction))\n",
    "    print('Precision: %.4f [TP / (TP + FP)] Not to label a negative sample as positive.        Best: 1, Worst: 0' % precision_score(actual, prediction))\n",
    "    print('Recall   : %.4f [TP / (TP + FN)] Find all the positive samples.                     Best: 1, Worst: 0' % recall_score(actual, prediction))\n",
    "    print('ROC AUC  : %.4f                                                                     Best: 1, Worst: < 0.5' % roc_auc_score(actual, probabilities[:, 1]))\n",
    "    print('-' * 107)\n",
    "    print('TP: True Positives, FP: False Positives, TN: True Negatives, FN: False Negatives, N: Number of samples')\n",
    "\n",
    "    # Confusion Matrix\n",
    "    mat = confusion_matrix(actual, prediction)\n",
    "\n",
    "    # Precision/Recall\n",
    "    precision, recall, _ = precision_recall_curve(actual, prediction)\n",
    "    average_precision = average_precision_score(actual, prediction)\n",
    "    \n",
    "    # Compute ROC curve and ROC area\n",
    "    fpr, tpr, _ = roc_curve(actual, probabilities[:, 1])\n",
    "    roc_auc = auc(fpr, tpr)\n",
    "\n",
    "\n",
    "    # plot\n",
    "    fig, ax = plt.subplots(1, 3, figsize = (18, 6))\n",
    "    fig.subplots_adjust(left = 0.02, right = 0.98, wspace = 0.2)\n",
    "\n",
    "    # Confusion Matrix\n",
    "    sns.heatmap(mat.T, square = True, annot = True, fmt = 'd', cbar = False, cmap = 'Blues', ax = ax[0])\n",
    "\n",
    "    ax[0].set_title('Confusion Matrix')\n",
    "    ax[0].set_xlabel('True label')\n",
    "    ax[0].set_ylabel('Predicted label')\n",
    "    \n",
    "    # Precision/Recall\n",
    "    step_kwargs = {'step': 'post'}\n",
    "    ax[1].step(recall, precision, color = 'b', alpha = 0.2, where = 'post')\n",
    "    ax[1].fill_between(recall, precision, alpha = 0.2, color = 'b', **step_kwargs)\n",
    "    ax[1].set_ylim([0.0, 1.0])\n",
    "    ax[1].set_xlim([0.0, 1.0])\n",
    "    ax[1].set_xlabel('Recall')\n",
    "    ax[1].set_ylabel('Precision')\n",
    "    ax[1].set_title('2-class Precision-Recall curve')\n",
    "\n",
    "    # ROC\n",
    "    ax[2].plot(fpr, tpr, color = 'darkorange', lw = 2, label = 'ROC curve (AUC = %0.2f)' % roc_auc)\n",
    "    ax[2].plot([0, 1], [0, 1], color = 'navy', lw = 2, linestyle = '--')\n",
    "    ax[2].set_xlim([0.0, 1.0])\n",
    "    ax[2].set_ylim([0.0, 1.0])\n",
    "    ax[2].set_xlabel('False Positive Rate')\n",
    "    ax[2].set_ylabel('True Positive Rate')\n",
    "    ax[2].set_title('Receiver Operating Characteristic')\n",
    "    ax[2].legend(loc = 'lower right')\n",
    "\n",
    "    plt.show()"
   ]
  },
  {
   "cell_type": "code",
   "execution_count": 112,
   "id": "f761551a",
   "metadata": {},
   "outputs": [],
   "source": [
    "# Calculating predictings and probablities using Y test values \n",
    "\n",
    "y_test_pred = model.predict(X_test)\n",
    "y_test_prob = model.predict_proba(X_test)"
   ]
  },
  {
   "cell_type": "code",
   "execution_count": 113,
   "id": "fd5f56f6",
   "metadata": {
    "scrolled": true
   },
   "outputs": [
    {
     "name": "stdout",
     "output_type": "stream",
     "text": [
      "Accuracy : 0.8000 [TP / N] Proportion of predicted labels that match the true labels. Best: 1, Worst: 0\n",
      "Precision: 0.8333 [TP / (TP + FP)] Not to label a negative sample as positive.        Best: 1, Worst: 0\n",
      "Recall   : 0.7895 [TP / (TP + FN)] Find all the positive samples.                     Best: 1, Worst: 0\n",
      "ROC AUC  : 0.8816                                                                     Best: 1, Worst: < 0.5\n",
      "-----------------------------------------------------------------------------------------------------------\n",
      "TP: True Positives, FP: False Positives, TN: True Negatives, FN: False Negatives, N: Number of samples\n"
     ]
    },
    {
     "data": {
      "image/png": "[encoded data removed]",
      "text/plain": [
       "<Figure size 1296x432 with 3 Axes>"
      ]
     },
     "metadata": {
      "needs_background": "light"
     },
     "output_type": "display_data"
    }
   ],
   "source": [
    "show_summary_report(y_test, y_test_pred, y_test_prob)"
   ]
  },
  {
   "cell_type": "code",
   "execution_count": null,
   "id": "9638a0a4",
   "metadata": {},
   "outputs": [],
   "source": [
    "# re-defining feature and target columns without filtered X \n",
    "target_col = 'win_nowin'\n",
    "feature_cols = [c for c in df2.columns if c != target_col]\n",
    "\n",
    "X = df2[feature_cols]\n",
    "y= df2[target_col]"
   ]
  },
  {
   "cell_type": "code",
   "execution_count": 117,
   "id": "af91352d",
   "metadata": {},
   "outputs": [],
   "source": [
    "#Splitting test and train \n",
    "\n",
    "X_train, X_test, y_train, y_test = train_test_split(X, y, test_size=0.2, random_state=100, stratify = y)"
   ]
  },
  {
   "cell_type": "code",
   "execution_count": 119,
   "id": "b99673dd",
   "metadata": {},
   "outputs": [],
   "source": [
    "model = RandomForestClassifier()\n"
   ]
  },
  {
   "cell_type": "code",
   "execution_count": 120,
   "id": "e553ded4",
   "metadata": {},
   "outputs": [
    {
     "data": {
      "text/plain": [
       "RandomForestClassifier()"
      ]
     },
     "execution_count": 120,
     "metadata": {},
     "output_type": "execute_result"
    }
   ],
   "source": [
    "model.fit(X_train, y_train)"
   ]
  },
  {
   "cell_type": "code",
   "execution_count": 121,
   "id": "07649f91",
   "metadata": {},
   "outputs": [],
   "source": [
    "y_test_pred = model.predict(X_test)\n",
    "y_test_prob = model.predict_proba(X_test)"
   ]
  },
  {
   "cell_type": "code",
   "execution_count": 122,
   "id": "872c4875",
   "metadata": {},
   "outputs": [
    {
     "name": "stdout",
     "output_type": "stream",
     "text": [
      "Accuracy : 0.6286 [TP / N] Proportion of predicted labels that match the true labels. Best: 1, Worst: 0\n",
      "Precision: 0.6667 [TP / (TP + FP)] Not to label a negative sample as positive.        Best: 1, Worst: 0\n",
      "Recall   : 0.6316 [TP / (TP + FN)] Find all the positive samples.                     Best: 1, Worst: 0\n",
      "ROC AUC  : 0.8059                                                                     Best: 1, Worst: < 0.5\n",
      "-----------------------------------------------------------------------------------------------------------\n",
      "TP: True Positives, FP: False Positives, TN: True Negatives, FN: False Negatives, N: Number of samples\n"
     ]
    },
    {
     "data": {
      "image/png": "[encoded data removed]",
      "text/plain": [
       "<Figure size 1296x432 with 3 Axes>"
      ]
     },
     "metadata": {
      "needs_background": "light"
     },
     "output_type": "display_data"
    }
   ],
   "source": [
    "show_summary_report(y_test, y_test_pred, y_test_prob)"
   ]
  },
  {
   "cell_type": "code",
   "execution_count": 127,
   "id": "2f8d8033",
   "metadata": {},
   "outputs": [],
   "source": [
    "# creating shapely explainer variable to explore feature importance \n",
    "\n",
    "explainer = shap.TreeExplainer(model)"
   ]
  },
  {
   "cell_type": "code",
   "execution_count": 129,
   "id": "c0fa2370",
   "metadata": {},
   "outputs": [],
   "source": [
    "# get shap values for the features \n",
    "\n",
    "shap_values = explainer.shap_values(X_train)"
   ]
  },
  {
   "cell_type": "code",
   "execution_count": 130,
   "id": "2cd2ae22",
   "metadata": {},
   "outputs": [
    {
     "data": {
      "image/png": "[encoded data removed]",
      "text/plain": [
       "<Figure size 2160x1080 with 1 Axes>"
      ]
     },
     "metadata": {
      "needs_background": "light"
     },
     "output_type": "display_data"
    }
   ],
   "source": [
    "#Plot feature imporantce according to shap values \n",
    "\n",
    "plt_shap = shap.summary_plot(shap_values, #Use Shap values array\n",
    "                             features=X_train, # Use training set features\n",
    "                             feature_names=X_train.columns, #Use column names\n",
    "                             plot_size=(30,15)) # Change plot size\n",
    "plt.show()"
   ]
  }
 ],
 "metadata": {
  "kernelspec": {
   "display_name": "Python 3 (ipykernel)",
   "language": "python",
   "name": "python3"
  },
  "language_info": {
   "codemirror_mode": {
    "name": "ipython",
    "version": 3
   },
   "file_extension": ".py",
   "mimetype": "text/x-python",
   "name": "python",
   "nbconvert_exporter": "python",
   "pygments_lexer": "ipython3",
   "version": "3.9.7"
  }
 },
 "nbformat": 4,
 "nbformat_minor": 5
}
