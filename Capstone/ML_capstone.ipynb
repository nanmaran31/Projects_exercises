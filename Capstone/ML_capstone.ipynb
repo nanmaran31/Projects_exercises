{
 "cells": [
  {
   "cell_type": "code",
   "execution_count": 1,
   "id": "6eb72619",
   "metadata": {},
   "outputs": [],
   "source": [
    "## Import Libraries\n",
    "import itertools\n",
    "\n",
    "import numpy as np\n",
    "import pandas as pd\n",
    "\n",
    "%matplotlib inline\n",
    "import matplotlib.pyplot as plt\n",
    "import matplotlib.gridspec as gridspec\n",
    "import seaborn as sns\n",
    "from time import time\n",
    "from sklearn.impute import SimpleImputer\n",
    "from sklearn.preprocessing import MinMaxScaler\n",
    "from sklearn.feature_selection import RFE\n",
    "from sklearn.feature_selection import RFECV\n",
    "from sklearn.feature_selection import SequentialFeatureSelector\n",
    "from sklearn.model_selection import StratifiedKFold\n",
    "from sklearn.model_selection import RepeatedStratifiedKFold\n",
    "from sklearn import model_selection\n",
    "from sklearn.ensemble import RandomForestClassifier\n",
    "from sklearn.linear_model import LogisticRegression\n",
    "from sklearn.model_selection import cross_val_score\n",
    "from sklearn.model_selection import cross_val_score, train_test_split\n",
    "from sklearn.model_selection import KFold\n",
    "from sklearn.model_selection import train_test_split\n",
    "from sklearn.naive_bayes import GaussianNB \n",
    "from sklearn.neighbors import KNeighborsClassifier\n",
    "from sklearn import metrics\n",
    "from sklearn.metrics import confusion_matrix\n",
    "from sklearn.metrics import accuracy_score\n",
    "from sklearn.metrics import precision_score\n",
    "from sklearn.metrics import recall_score\n",
    "from sklearn.metrics import average_precision_score\n",
    "from sklearn.metrics import roc_auc_score\n",
    "from sklearn.metrics import precision_recall_curve\n",
    "from sklearn.metrics import roc_curve\n",
    "from sklearn.metrics import auc\n",
    "from sklearn.metrics import *\n",
    "from sklearn.metrics import roc_auc_score\n",
    "from sklearn.model_selection import cross_val_score\n",
    "from sklearn.metrics import roc_curve, auc\n",
    "from sklearn.metrics import accuracy_score, confusion_matrix\n",
    "from sklearn.metrics import classification_report\n",
    "from sklearn.model_selection import GridSearchCV\n",
    "from boruta import BorutaPy\n",
    "import shap\n",
    "import warnings\n",
    "warnings.filterwarnings('ignore')"
   ]
  },
  {
   "cell_type": "code",
   "execution_count": 2,
   "id": "268a9d20",
   "metadata": {},
   "outputs": [],
   "source": [
    "#settingparameters \n",
    "pd.set_option('display.max_rows', 500)\n",
    "pd.set_option('display.max_columns', 500)\n",
    "pd.set_option('display.max_colwidth', None)\n",
    "pd.options.display.max_seq_items = 2000"
   ]
  },
  {
   "cell_type": "code",
   "execution_count": 83,
   "id": "6469e28f",
   "metadata": {},
   "outputs": [],
   "source": [
    "df = pd.read_csv('/Users/z3433848/Desktop/DSI/Capstone/df.csv')"
   ]
  },
  {
   "cell_type": "code",
   "execution_count": 4,
   "id": "6c2d9b24",
   "metadata": {},
   "outputs": [
    {
     "name": "stdout",
     "output_type": "stream",
     "text": [
      "<class 'pandas.core.frame.DataFrame'>\n",
      "RangeIndex: 174 entries, 0 to 173\n",
      "Data columns (total 93 columns):\n",
      " #   Column                      Non-Null Count  Dtype  \n",
      "---  ------                      --------------  -----  \n",
      " 0   xG                          174 non-null    float64\n",
      " 1   xGA                         174 non-null    float64\n",
      " 2   Poss                        174 non-null    int64  \n",
      " 3   Touches                     174 non-null    int64  \n",
      " 4   Press                       174 non-null    int64  \n",
      " 5   Tkl                         174 non-null    int64  \n",
      " 6   Int                         174 non-null    int64  \n",
      " 7   Blocks                      174 non-null    int64  \n",
      " 8   xG_Expected                 174 non-null    float64\n",
      " 9   npxG_Expected               174 non-null    float64\n",
      " 10  xA_Expected                 174 non-null    float64\n",
      " 11  Att_Passes                  174 non-null    int64  \n",
      " 12  Cmp_percent_Passes          174 non-null    float64\n",
      " 13  Prog_Passes                 174 non-null    int64  \n",
      " 14  Prog_Carries                174 non-null    int64  \n",
      " 15  Succ_Dribbles               174 non-null    int64  \n",
      " 16  Att_Dribbles                174 non-null    int64  \n",
      " 17  Cmp_percent_Total           174 non-null    float64\n",
      " 18  TotDist_Total               174 non-null    int64  \n",
      " 19  PrgDist_Total               174 non-null    int64  \n",
      " 20  Att_Short                   174 non-null    int64  \n",
      " 21  Cmp_percent_Short           174 non-null    float64\n",
      " 22  Att_Medium                  174 non-null    int64  \n",
      " 23  Cmp_percent_Medium          174 non-null    float64\n",
      " 24  Att_Long                    174 non-null    int64  \n",
      " 25  Cmp_percent_Long            174 non-null    float64\n",
      " 26  PPA                         174 non-null    int64  \n",
      " 27  CrsPA                       174 non-null    int64  \n",
      " 28  Live_Pass_Types             174 non-null    int64  \n",
      " 29  Dead_Pass_Types             174 non-null    int64  \n",
      " 30  FK_Pass_Types               174 non-null    int64  \n",
      " 31  TB_Pass_Types               174 non-null    int64  \n",
      " 32  Press_Pass_Types            174 non-null    int64  \n",
      " 33  Sw_Pass_Types               174 non-null    int64  \n",
      " 34  Crs_Pass_Types              174 non-null    int64  \n",
      " 35  CK_Pass_Types               174 non-null    int64  \n",
      " 36  Int_Outcomes                174 non-null    int64  \n",
      " 37  Blocks_Outcomes             174 non-null    int64  \n",
      " 38  Tkl_Tackles                 174 non-null    int64  \n",
      " 39  TklW_Tackles                174 non-null    int64  \n",
      " 40  Def.3rd_Tackles             174 non-null    int64  \n",
      " 41  Mid.3rd_Tackles             174 non-null    int64  \n",
      " 42  Att.3rd_Tackles             174 non-null    int64  \n",
      " 43  Att_Vs_Dribbles             174 non-null    int64  \n",
      " 44  Tkl_percent_Vs_Dribbles     174 non-null    float64\n",
      " 45  Past_Vs_Dribbles            174 non-null    int64  \n",
      " 46  Press_Pressures             174 non-null    int64  \n",
      " 47  Succ_Pressures              174 non-null    int64  \n",
      " 48  Def.3rd_Pressures           174 non-null    int64  \n",
      " 49  Mid.3rd_Pressures           174 non-null    int64  \n",
      " 50  Att.3rd_Pressures           174 non-null    int64  \n",
      " 51  Sh_Blocks                   174 non-null    int64  \n",
      " 52  ShSv_Blocks                 174 non-null    int64  \n",
      " 53  Pass_Blocks                 174 non-null    int64  \n",
      " 54  Tkl.Int                     174 non-null    int64  \n",
      " 55  Clr                         174 non-null    int64  \n",
      " 56  Err                         174 non-null    int64  \n",
      " 57  Touches_Touches             174 non-null    int64  \n",
      " 58  Def.Pen_Touches             174 non-null    int64  \n",
      " 59  Def.3rd_Touches             174 non-null    int64  \n",
      " 60  Mid.3rd_Touches             174 non-null    int64  \n",
      " 61  Att.3rd_Touches             174 non-null    int64  \n",
      " 62  Att.Pen_Touches             174 non-null    int64  \n",
      " 63  Succ_percent_Dribbles       174 non-null    float64\n",
      " 64  PrgDist_Carries             174 non-null    int64  \n",
      " 65  Final_Third_Carries         174 non-null    int64  \n",
      " 66  CPA_Carries                 174 non-null    int64  \n",
      " 67  Mis_Carries                 174 non-null    int64  \n",
      " 68  Dis_Carries                 174 non-null    int64  \n",
      " 69  Fls                         174 non-null    int64  \n",
      " 70  Fld                         174 non-null    int64  \n",
      " 71  Off                         174 non-null    int64  \n",
      " 72  Crs                         174 non-null    int64  \n",
      " 73  TklW                        174 non-null    int64  \n",
      " 74  PKwon                       174 non-null    int64  \n",
      " 75  PKcon                       174 non-null    int64  \n",
      " 76  Won_percent_Aerial_Duels    174 non-null    float64\n",
      " 77  Recov                       174 non-null    int64  \n",
      " 78  Saves_Shot_Stopping         174 non-null    int64  \n",
      " 79  SoTA_Shot_Stopping          174 non-null    int64  \n",
      " 80  Att_Goal_Kicks              174 non-null    int64  \n",
      " 81  Save_percent_Shot_Stopping  174 non-null    float64\n",
      " 82  Stp_percent_Crosses         174 non-null    float64\n",
      " 83  SoT                         174 non-null    int64  \n",
      " 84  GCA_SCA                     174 non-null    int64  \n",
      " 85  Prog                        174 non-null    int64  \n",
      " 86  TotDist_Carries             174 non-null    int64  \n",
      " 87  PSxG_Shot_Stopping          174 non-null    float64\n",
      " 88  Opp_Crosses                 174 non-null    int64  \n",
      " 89  AvgDist_Sweeper             174 non-null    float64\n",
      " 90  Player_NumOPA_Sweeper       174 non-null    int64  \n",
      " 91  formation_class             174 non-null    int64  \n",
      " 92  win_nowin                   174 non-null    int64  \n",
      "dtypes: float64(17), int64(76)\n",
      "memory usage: 126.5 KB\n"
     ]
    }
   ],
   "source": [
    "#checking dataframe\n",
    "df.info()"
   ]
  },
  {
   "cell_type": "code",
   "execution_count": 84,
   "id": "a7e1dead",
   "metadata": {},
   "outputs": [],
   "source": [
    "#defining feature and target columns\n",
    "target_col = 'win_nowin'\n",
    "feature_cols = [c for c in df.columns if c != target_col]\n",
    "\n",
    "X = df[feature_cols]\n",
    "y= df[target_col]"
   ]
  },
  {
   "cell_type": "code",
   "execution_count": 6,
   "id": "147aa728",
   "metadata": {},
   "outputs": [
    {
     "data": {
      "text/plain": [
       "array([[1.300e+00, 8.000e-01, 6.300e+01, ..., 2.780e+01, 3.000e+00,\n",
       "        3.430e+02],\n",
       "       [8.000e-01, 6.000e-01, 3.200e+01, ..., 1.280e+01, 0.000e+00,\n",
       "        4.231e+03],\n",
       "       [1.100e+00, 6.000e-01, 5.600e+01, ..., 1.720e+01, 1.000e+00,\n",
       "        3.430e+02],\n",
       "       ...,\n",
       "       [5.000e-01, 7.000e-01, 4.400e+01, ..., 1.830e+01, 3.000e+00,\n",
       "        3.430e+02],\n",
       "       [7.000e-01, 6.000e-01, 5.600e+01, ..., 1.420e+01, 1.000e+00,\n",
       "        4.222e+03],\n",
       "       [9.000e-01, 4.000e-01, 6.500e+01, ..., 1.200e+01, 0.000e+00,\n",
       "        4.141e+03]])"
      ]
     },
     "execution_count": 6,
     "metadata": {},
     "output_type": "execute_result"
    }
   ],
   "source": [
    "X.values"
   ]
  },
  {
   "cell_type": "code",
   "execution_count": 7,
   "id": "41b3091f",
   "metadata": {},
   "outputs": [
    {
     "data": {
      "text/plain": [
       "1    93\n",
       "0    81\n",
       "Name: win_nowin, dtype: int64"
      ]
     },
     "execution_count": 7,
     "metadata": {},
     "output_type": "execute_result"
    }
   ],
   "source": [
    "y.value_counts()"
   ]
  },
  {
   "cell_type": "code",
   "execution_count": 85,
   "id": "d5898d66",
   "metadata": {},
   "outputs": [],
   "source": [
    "# splitting test and train \n",
    "X_train, X_test, y_train, y_test = train_test_split(X, y, test_size=0.2, random_state=100)"
   ]
  },
  {
   "cell_type": "code",
   "execution_count": 86,
   "id": "47e0be2e",
   "metadata": {},
   "outputs": [
    {
     "data": {
      "text/plain": [
       "LogisticRegression(C=100, random_state=100, solver='saga')"
      ]
     },
     "execution_count": 86,
     "metadata": {},
     "output_type": "execute_result"
    }
   ],
   "source": [
    "# fitting model using training data \n",
    "lr = LogisticRegression(solver='saga', C=100, random_state=100)\n",
    "lr.fit(X_train, y_train)"
   ]
  },
  {
   "cell_type": "code",
   "execution_count": 87,
   "id": "afee8c2b",
   "metadata": {},
   "outputs": [
    {
     "name": "stdout",
     "output_type": "stream",
     "text": [
      "Mean Accuracy: 0.600 (0.069)\n"
     ]
    },
    {
     "name": "stderr",
     "output_type": "stream",
     "text": [
      "/Users/z3433848/opt/anaconda3/lib/python3.9/site-packages/sklearn/linear_model/_sag.py:328: ConvergenceWarning: The max_iter was reached which means the coef_ did not converge\n",
      "  warnings.warn(\"The max_iter was reached which means \"\n",
      "/Users/z3433848/opt/anaconda3/lib/python3.9/site-packages/sklearn/linear_model/_sag.py:328: ConvergenceWarning: The max_iter was reached which means the coef_ did not converge\n",
      "  warnings.warn(\"The max_iter was reached which means \"\n",
      "/Users/z3433848/opt/anaconda3/lib/python3.9/site-packages/sklearn/linear_model/_sag.py:328: ConvergenceWarning: The max_iter was reached which means the coef_ did not converge\n",
      "  warnings.warn(\"The max_iter was reached which means \"\n",
      "/Users/z3433848/opt/anaconda3/lib/python3.9/site-packages/sklearn/linear_model/_sag.py:328: ConvergenceWarning: The max_iter was reached which means the coef_ did not converge\n",
      "  warnings.warn(\"The max_iter was reached which means \"\n",
      "/Users/z3433848/opt/anaconda3/lib/python3.9/site-packages/sklearn/linear_model/_sag.py:328: ConvergenceWarning: The max_iter was reached which means the coef_ did not converge\n",
      "  warnings.warn(\"The max_iter was reached which means \"\n",
      "/Users/z3433848/opt/anaconda3/lib/python3.9/site-packages/sklearn/linear_model/_sag.py:328: ConvergenceWarning: The max_iter was reached which means the coef_ did not converge\n",
      "  warnings.warn(\"The max_iter was reached which means \"\n",
      "/Users/z3433848/opt/anaconda3/lib/python3.9/site-packages/sklearn/linear_model/_sag.py:328: ConvergenceWarning: The max_iter was reached which means the coef_ did not converge\n",
      "  warnings.warn(\"The max_iter was reached which means \"\n",
      "/Users/z3433848/opt/anaconda3/lib/python3.9/site-packages/sklearn/linear_model/_sag.py:328: ConvergenceWarning: The max_iter was reached which means the coef_ did not converge\n",
      "  warnings.warn(\"The max_iter was reached which means \"\n",
      "/Users/z3433848/opt/anaconda3/lib/python3.9/site-packages/sklearn/linear_model/_sag.py:328: ConvergenceWarning: The max_iter was reached which means the coef_ did not converge\n",
      "  warnings.warn(\"The max_iter was reached which means \"\n",
      "/Users/z3433848/opt/anaconda3/lib/python3.9/site-packages/sklearn/linear_model/_sag.py:328: ConvergenceWarning: The max_iter was reached which means the coef_ did not converge\n",
      "  warnings.warn(\"The max_iter was reached which means \"\n",
      "/Users/z3433848/opt/anaconda3/lib/python3.9/site-packages/sklearn/linear_model/_sag.py:328: ConvergenceWarning: The max_iter was reached which means the coef_ did not converge\n",
      "  warnings.warn(\"The max_iter was reached which means \"\n",
      "/Users/z3433848/opt/anaconda3/lib/python3.9/site-packages/sklearn/linear_model/_sag.py:328: ConvergenceWarning: The max_iter was reached which means the coef_ did not converge\n",
      "  warnings.warn(\"The max_iter was reached which means \"\n",
      "/Users/z3433848/opt/anaconda3/lib/python3.9/site-packages/sklearn/linear_model/_sag.py:328: ConvergenceWarning: The max_iter was reached which means the coef_ did not converge\n",
      "  warnings.warn(\"The max_iter was reached which means \"\n",
      "/Users/z3433848/opt/anaconda3/lib/python3.9/site-packages/sklearn/linear_model/_sag.py:328: ConvergenceWarning: The max_iter was reached which means the coef_ did not converge\n",
      "  warnings.warn(\"The max_iter was reached which means \"\n",
      "/Users/z3433848/opt/anaconda3/lib/python3.9/site-packages/sklearn/linear_model/_sag.py:328: ConvergenceWarning: The max_iter was reached which means the coef_ did not converge\n",
      "  warnings.warn(\"The max_iter was reached which means \"\n",
      "/Users/z3433848/opt/anaconda3/lib/python3.9/site-packages/sklearn/linear_model/_sag.py:328: ConvergenceWarning: The max_iter was reached which means the coef_ did not converge\n",
      "  warnings.warn(\"The max_iter was reached which means \"\n",
      "/Users/z3433848/opt/anaconda3/lib/python3.9/site-packages/sklearn/linear_model/_sag.py:328: ConvergenceWarning: The max_iter was reached which means the coef_ did not converge\n",
      "  warnings.warn(\"The max_iter was reached which means \"\n",
      "/Users/z3433848/opt/anaconda3/lib/python3.9/site-packages/sklearn/linear_model/_sag.py:328: ConvergenceWarning: The max_iter was reached which means the coef_ did not converge\n",
      "  warnings.warn(\"The max_iter was reached which means \"\n",
      "/Users/z3433848/opt/anaconda3/lib/python3.9/site-packages/sklearn/linear_model/_sag.py:328: ConvergenceWarning: The max_iter was reached which means the coef_ did not converge\n",
      "  warnings.warn(\"The max_iter was reached which means \"\n",
      "/Users/z3433848/opt/anaconda3/lib/python3.9/site-packages/sklearn/linear_model/_sag.py:328: ConvergenceWarning: The max_iter was reached which means the coef_ did not converge\n",
      "  warnings.warn(\"The max_iter was reached which means \"\n",
      "/Users/z3433848/opt/anaconda3/lib/python3.9/site-packages/sklearn/linear_model/_sag.py:328: ConvergenceWarning: The max_iter was reached which means the coef_ did not converge\n",
      "  warnings.warn(\"The max_iter was reached which means \"\n",
      "/Users/z3433848/opt/anaconda3/lib/python3.9/site-packages/sklearn/linear_model/_sag.py:328: ConvergenceWarning: The max_iter was reached which means the coef_ did not converge\n",
      "  warnings.warn(\"The max_iter was reached which means \"\n",
      "/Users/z3433848/opt/anaconda3/lib/python3.9/site-packages/sklearn/linear_model/_sag.py:328: ConvergenceWarning: The max_iter was reached which means the coef_ did not converge\n",
      "  warnings.warn(\"The max_iter was reached which means \"\n",
      "/Users/z3433848/opt/anaconda3/lib/python3.9/site-packages/sklearn/linear_model/_sag.py:328: ConvergenceWarning: The max_iter was reached which means the coef_ did not converge\n",
      "  warnings.warn(\"The max_iter was reached which means \"\n",
      "/Users/z3433848/opt/anaconda3/lib/python3.9/site-packages/sklearn/linear_model/_sag.py:328: ConvergenceWarning: The max_iter was reached which means the coef_ did not converge\n",
      "  warnings.warn(\"The max_iter was reached which means \"\n",
      "/Users/z3433848/opt/anaconda3/lib/python3.9/site-packages/sklearn/linear_model/_sag.py:328: ConvergenceWarning: The max_iter was reached which means the coef_ did not converge\n",
      "  warnings.warn(\"The max_iter was reached which means \"\n",
      "/Users/z3433848/opt/anaconda3/lib/python3.9/site-packages/sklearn/linear_model/_sag.py:328: ConvergenceWarning: The max_iter was reached which means the coef_ did not converge\n",
      "  warnings.warn(\"The max_iter was reached which means \"\n",
      "/Users/z3433848/opt/anaconda3/lib/python3.9/site-packages/sklearn/linear_model/_sag.py:328: ConvergenceWarning: The max_iter was reached which means the coef_ did not converge\n",
      "  warnings.warn(\"The max_iter was reached which means \"\n",
      "/Users/z3433848/opt/anaconda3/lib/python3.9/site-packages/sklearn/linear_model/_sag.py:328: ConvergenceWarning: The max_iter was reached which means the coef_ did not converge\n",
      "  warnings.warn(\"The max_iter was reached which means \"\n",
      "/Users/z3433848/opt/anaconda3/lib/python3.9/site-packages/sklearn/linear_model/_sag.py:328: ConvergenceWarning: The max_iter was reached which means the coef_ did not converge\n",
      "  warnings.warn(\"The max_iter was reached which means \"\n"
     ]
    }
   ],
   "source": [
    "# Cross-validate the data using Repeatead Stratified K Fold (10 splits)\n",
    "\n",
    "cv = RepeatedStratifiedKFold(n_splits=10, n_repeats=3, random_state=1)\n",
    "# evaluate the model and collect the scores\n",
    "n_scores = cross_val_score(lr, X, y, scoring='accuracy', cv=cv, n_jobs=-1)\n",
    "# report the model performance\n",
    "print('Mean Accuracy: %.3f (%.3f)' % (np.mean(n_scores), np.std(n_scores)))"
   ]
  },
  {
   "cell_type": "code",
   "execution_count": 11,
   "id": "8101f7f0",
   "metadata": {},
   "outputs": [
    {
     "name": "stdout",
     "output_type": "stream",
     "text": [
      "[0.55555556 0.5        0.66666667 0.66666667 0.58823529 0.64705882\n",
      " 0.58823529 0.70588235 0.58823529 0.58823529 0.55555556 0.5\n",
      " 0.55555556 0.61111111 0.64705882 0.70588235 0.47058824 0.70588235\n",
      " 0.70588235 0.52941176 0.55555556 0.61111111 0.55555556 0.66666667\n",
      " 0.64705882 0.64705882 0.52941176 0.58823529 0.64705882 0.47058824]\n"
     ]
    }
   ],
   "source": [
    "print(n_scores)"
   ]
  },
  {
   "cell_type": "code",
   "execution_count": 88,
   "id": "3126c620",
   "metadata": {},
   "outputs": [
    {
     "name": "stdout",
     "output_type": "stream",
     "text": [
      "Accuracy score = 0.5714285714285714\n",
      "              precision    recall  f1-score   support\n",
      "\n",
      "           0       0.38      0.55      0.44        11\n",
      "           1       0.74      0.58      0.65        24\n",
      "\n",
      "    accuracy                           0.57        35\n",
      "   macro avg       0.56      0.56      0.55        35\n",
      "weighted avg       0.62      0.57      0.59        35\n",
      "\n"
     ]
    },
    {
     "data": {
      "image/png": "[encoded data removed]",
      "text/plain": [
       "<Figure size 432x288 with 2 Axes>"
      ]
     },
     "metadata": {
      "needs_background": "light"
     },
     "output_type": "display_data"
    }
   ],
   "source": [
    "y_pred_lr = lr.predict(X_test)\n",
    "ac = accuracy_score(y_test,y_pred_lr)\n",
    "print('Accuracy score =',ac)\n",
    "cm = confusion_matrix(y_test, y_pred_lr)\n",
    "s= sns.heatmap(cm,annot=True,fmt=\"d\")\n",
    "s.set(xlabel='Actual', ylabel='Predicted')\n",
    "print(classification_report(y_test, y_pred_lr))"
   ]
  },
  {
   "cell_type": "code",
   "execution_count": 13,
   "id": "2eeadc84",
   "metadata": {},
   "outputs": [],
   "source": [
    "def plot_roc_curve(X_test, y_test):\n",
    "    # Generate the prediction values for each of the test observations using predict_proba() function rather than just predict\n",
    "    preds = lr.predict_proba(X_test)[:,1]\n",
    "\n",
    "    # Store the false positive rate(fpr), true positive rate (tpr) in vectors for use in the graph\n",
    "    fpr, tpr, _ = metrics.roc_curve(y_test, preds)\n",
    "\n",
    "    # Store the Area Under the Curve (AUC) so we can annotate our graph with theis metric\n",
    "    roc_auc = metrics.auc(fpr, tpr)\n",
    "\n",
    "    # Plot the ROC Curve\n",
    "    plt.figure()\n",
    "    lw = 2\n",
    "    plt.plot(fpr, tpr, color='darkorange', lw = lw, label = 'ROC curve (area = %0.2f)' % roc_auc)\n",
    "    plt.plot([0, 1], [0, 1], color = 'navy', lw = lw, linestyle = '--')\n",
    "    plt.xlim([0.0, 1.0])\n",
    "    plt.ylim([0.0, 1.0])\n",
    "    plt.xlabel('False Positive Rate')\n",
    "    plt.ylabel('True Positive Rate')\n",
    "    plt.title('Receiver operating characteristic for Logistic Regression')\n",
    "    plt.legend(loc = \"lower right\")\n",
    "    plt.show()"
   ]
  },
  {
   "cell_type": "code",
   "execution_count": 14,
   "id": "8351480b",
   "metadata": {},
   "outputs": [
    {
     "data": {
      "image/png": "[encoded data removed]",
      "text/plain": [
       "<Figure size 432x288 with 1 Axes>"
      ]
     },
     "metadata": {
      "needs_background": "light"
     },
     "output_type": "display_data"
    }
   ],
   "source": [
    "# Area under ROC for test data \n",
    "plot_roc_curve(X_test, y_test)"
   ]
  },
  {
   "cell_type": "code",
   "execution_count": 36,
   "id": "50743862",
   "metadata": {},
   "outputs": [
    {
     "name": "stdout",
     "output_type": "stream",
     "text": [
      "RandomForestClassifier(n_estimators=50, random_state=100)\n"
     ]
    }
   ],
   "source": [
    "# Define Random Forest Classifier Model \n",
    "model = RandomForestClassifier(n_estimators = 50, random_state = 100)\n",
    "print(model)"
   ]
  },
  {
   "cell_type": "code",
   "execution_count": 37,
   "id": "66f14667",
   "metadata": {},
   "outputs": [
    {
     "data": {
      "text/plain": [
       "RandomForestClassifier(n_estimators=50, random_state=100)"
      ]
     },
     "execution_count": 37,
     "metadata": {},
     "output_type": "execute_result"
    }
   ],
   "source": [
    "# Fit Random Forest Classifier \n",
    "model.fit(X_train, y_train)"
   ]
  },
  {
   "cell_type": "code",
   "execution_count": 38,
   "id": "2d33b11a",
   "metadata": {},
   "outputs": [
    {
     "name": "stdout",
     "output_type": "stream",
     "text": [
      "Mean Accuracy: 0.833 (0.084)\n"
     ]
    }
   ],
   "source": [
    "# Cross-validate the data using Repeatead Stratified K Fold (10 splits)\n",
    "\n",
    "cv = RepeatedStratifiedKFold(n_splits=10, n_repeats=3, random_state=1)\n",
    "# evaluate the model and collect the scores\n",
    "n_scores = cross_val_score(model, X, y, scoring='accuracy', cv=cv, n_jobs=-1)\n",
    "# report the model performance\n",
    "print('Mean Accuracy: %.3f (%.3f)' % (np.mean(n_scores), np.std(n_scores)))"
   ]
  },
  {
   "cell_type": "code",
   "execution_count": 39,
   "id": "00aef3a0",
   "metadata": {},
   "outputs": [
    {
     "name": "stdout",
     "output_type": "stream",
     "text": [
      "[0.77777778 0.94444444 0.72222222 1.         0.82352941 0.94117647\n",
      " 0.82352941 0.70588235 0.82352941 0.70588235 0.77777778 0.94444444\n",
      " 0.94444444 0.83333333 0.88235294 0.82352941 0.88235294 0.94117647\n",
      " 0.82352941 0.76470588 0.77777778 0.83333333 0.83333333 0.83333333\n",
      " 0.76470588 0.76470588 0.82352941 0.88235294 0.64705882 0.94117647]\n"
     ]
    }
   ],
   "source": [
    "print(n_scores)"
   ]
  },
  {
   "cell_type": "code",
   "execution_count": 40,
   "id": "63dec94a",
   "metadata": {},
   "outputs": [],
   "source": [
    "# Defining function to show summary report \n",
    "def show_summary_report(actual, prediction, probabilities):\n",
    "\n",
    "    if isinstance(actual, pd.Series):\n",
    "        actual = actual.values.astype(int)\n",
    "    prediction = prediction.astype(int)\n",
    "\n",
    "    print('Accuracy : %.4f [TP / N] Proportion of predicted labels that match the true labels. Best: 1, Worst: 0' % accuracy_score(actual, prediction))\n",
    "    print('Precision: %.4f [TP / (TP + FP)] Not to label a negative sample as positive.        Best: 1, Worst: 0' % precision_score(actual, prediction))\n",
    "    print('Recall   : %.4f [TP / (TP + FN)] Find all the positive samples.                     Best: 1, Worst: 0' % recall_score(actual, prediction))\n",
    "    print('ROC AUC  : %.4f                                                                     Best: 1, Worst: < 0.5' % roc_auc_score(actual, probabilities[:, 1]))\n",
    "    print('-' * 107)\n",
    "    print('TP: True Positives, FP: False Positives, TN: True Negatives, FN: False Negatives, N: Number of samples')\n",
    "\n",
    "    # Confusion Matrix\n",
    "    mat = confusion_matrix(actual, prediction)\n",
    "\n",
    "    # Precision/Recall\n",
    "    precision, recall, _ = precision_recall_curve(actual, prediction)\n",
    "    average_precision = average_precision_score(actual, prediction)\n",
    "    \n",
    "    # Compute ROC curve and ROC area\n",
    "    fpr, tpr, _ = roc_curve(actual, probabilities[:, 1])\n",
    "    roc_auc = auc(fpr, tpr)\n",
    "\n",
    "\n",
    "    # plot\n",
    "    fig, ax = plt.subplots(1, 3, figsize = (18, 6))\n",
    "    fig.subplots_adjust(left = 0.02, right = 0.98, wspace = 0.2)\n",
    "\n",
    "    # Confusion Matrix\n",
    "    sns.heatmap(mat.T, square = True, annot = True, fmt = 'd', cbar = False, cmap = 'Blues', ax = ax[0])\n",
    "\n",
    "    ax[0].set_title('Confusion Matrix')\n",
    "    ax[0].set_xlabel('True label')\n",
    "    ax[0].set_ylabel('Predicted label')\n",
    "    \n",
    "    # Precision/Recall\n",
    "    step_kwargs = {'step': 'post'}\n",
    "    ax[1].step(recall, precision, color = 'b', alpha = 0.2, where = 'post')\n",
    "    ax[1].fill_between(recall, precision, alpha = 0.2, color = 'b', **step_kwargs)\n",
    "    ax[1].set_ylim([0.0, 1.0])\n",
    "    ax[1].set_xlim([0.0, 1.0])\n",
    "    ax[1].set_xlabel('Recall')\n",
    "    ax[1].set_ylabel('Precision')\n",
    "    ax[1].set_title('2-class Precision-Recall curve')\n",
    "\n",
    "    # ROC\n",
    "    ax[2].plot(fpr, tpr, color = 'darkorange', lw = 2, label = 'ROC curve (AUC = %0.2f)' % roc_auc)\n",
    "    ax[2].plot([0, 1], [0, 1], color = 'navy', lw = 2, linestyle = '--')\n",
    "    ax[2].set_xlim([0.0, 1.0])\n",
    "    ax[2].set_ylim([0.0, 1.0])\n",
    "    ax[2].set_xlabel('False Positive Rate')\n",
    "    ax[2].set_ylabel('True Positive Rate')\n",
    "    ax[2].set_title('Receiver Operating Characteristic')\n",
    "    ax[2].legend(loc = 'lower right')\n",
    "\n",
    "    plt.show()"
   ]
  },
  {
   "cell_type": "code",
   "execution_count": 41,
   "id": "56053c4a",
   "metadata": {},
   "outputs": [],
   "source": [
    "# Calculating predictings and probablities using Y test values \n",
    "\n",
    "y_test_pred = model.predict(X_test)\n",
    "y_test_prob = model.predict_proba(X_test)"
   ]
  },
  {
   "cell_type": "code",
   "execution_count": 42,
   "id": "331d3208",
   "metadata": {},
   "outputs": [
    {
     "name": "stdout",
     "output_type": "stream",
     "text": [
      "Accuracy : 0.7429 [TP / N] Proportion of predicted labels that match the true labels. Best: 1, Worst: 0\n",
      "Precision: 0.8947 [TP / (TP + FP)] Not to label a negative sample as positive.        Best: 1, Worst: 0\n",
      "Recall   : 0.7083 [TP / (TP + FN)] Find all the positive samples.                     Best: 1, Worst: 0\n",
      "ROC AUC  : 0.8807                                                                     Best: 1, Worst: < 0.5\n",
      "-----------------------------------------------------------------------------------------------------------\n",
      "TP: True Positives, FP: False Positives, TN: True Negatives, FN: False Negatives, N: Number of samples\n"
     ]
    },
    {
     "data": {
      "image/png": "[encoded data removed]",
      "text/plain": [
       "<Figure size 1296x432 with 3 Axes>"
      ]
     },
     "metadata": {
      "needs_background": "light"
     },
     "output_type": "display_data"
    }
   ],
   "source": [
    "show_summary_report(y_test, y_test_pred, y_test_prob)"
   ]
  },
  {
   "cell_type": "code",
   "execution_count": 53,
   "id": "3d41ac2d",
   "metadata": {},
   "outputs": [],
   "source": [
    "# gridsearch Random Forest\n",
    "\n",
    "rf_params = {\n",
    "    'n_estimators': [10,50,100],\n",
    "    'criterion': ['gini','entropy'],\n",
    "    'max_features' : ['auto', 'log2', 'none']\n",
    "}\n",
    "\n",
    "gs = GridSearchCV(estimator=RandomForestClassifier(), param_grid=rf_params, cv=5, verbose =1)\n"
   ]
  },
  {
   "cell_type": "code",
   "execution_count": 54,
   "id": "54153d79",
   "metadata": {},
   "outputs": [
    {
     "name": "stdout",
     "output_type": "stream",
     "text": [
      "Fitting 5 folds for each of 18 candidates, totalling 90 fits\n"
     ]
    },
    {
     "data": {
      "text/plain": [
       "GridSearchCV(cv=5, estimator=RandomForestClassifier(),\n",
       "             param_grid={'criterion': ['gini', 'entropy'],\n",
       "                         'max_features': ['auto', 'log2', 'none'],\n",
       "                         'n_estimators': [10, 50, 100]},\n",
       "             verbose=1)"
      ]
     },
     "execution_count": 54,
     "metadata": {},
     "output_type": "execute_result"
    }
   ],
   "source": [
    "gs.fit(X_train.values, y_train.values)"
   ]
  },
  {
   "cell_type": "code",
   "execution_count": 55,
   "id": "888282e8",
   "metadata": {},
   "outputs": [
    {
     "data": {
      "text/plain": [
       "{'criterion': 'entropy', 'max_features': 'auto', 'n_estimators': 50}"
      ]
     },
     "execution_count": 55,
     "metadata": {},
     "output_type": "execute_result"
    }
   ],
   "source": [
    "gs.best_params_"
   ]
  },
  {
   "cell_type": "code",
   "execution_count": 59,
   "id": "9bdae5fc",
   "metadata": {},
   "outputs": [],
   "source": [
    "# Defining new model \n",
    "model2 = RandomForestClassifier(criterion = 'entropy', n_estimators = 50, random_state = 100)"
   ]
  },
  {
   "cell_type": "code",
   "execution_count": 60,
   "id": "30242858",
   "metadata": {},
   "outputs": [
    {
     "data": {
      "text/plain": [
       "RandomForestClassifier(criterion='entropy', n_estimators=50, random_state=100)"
      ]
     },
     "execution_count": 60,
     "metadata": {},
     "output_type": "execute_result"
    }
   ],
   "source": [
    "# Fit Random Forest Classifier \n",
    "model2.fit(X_train, y_train)"
   ]
  },
  {
   "cell_type": "code",
   "execution_count": 61,
   "id": "00972486",
   "metadata": {},
   "outputs": [
    {
     "name": "stdout",
     "output_type": "stream",
     "text": [
      "Mean Accuracy: 0.828 (0.072)\n"
     ]
    }
   ],
   "source": [
    "# Cross-validate the data using Repeatead Stratified K Fold (10 splits)\n",
    "\n",
    "cv = RepeatedStratifiedKFold(n_splits=10, n_repeats=3, random_state=1)\n",
    "# evaluate the model and collect the scores\n",
    "n_scores = cross_val_score(model2, X, y, scoring='accuracy', cv=cv, n_jobs=-1)\n",
    "# report the model performance\n",
    "print('Mean Accuracy: %.3f (%.3f)' % (np.mean(n_scores), np.std(n_scores)))"
   ]
  },
  {
   "cell_type": "code",
   "execution_count": 62,
   "id": "e05fb99b",
   "metadata": {},
   "outputs": [
    {
     "name": "stdout",
     "output_type": "stream",
     "text": [
      "[0.72222222 0.83333333 0.72222222 0.94444444 0.70588235 0.88235294\n",
      " 0.94117647 0.82352941 0.76470588 0.76470588 0.72222222 0.88888889\n",
      " 0.72222222 0.83333333 0.76470588 0.88235294 0.82352941 0.94117647\n",
      " 0.88235294 0.82352941 0.77777778 0.83333333 0.83333333 0.77777778\n",
      " 0.82352941 0.82352941 0.88235294 0.94117647 0.82352941 0.94117647]\n"
     ]
    }
   ],
   "source": [
    "print(n_scores)"
   ]
  },
  {
   "cell_type": "code",
   "execution_count": 63,
   "id": "246c6723",
   "metadata": {},
   "outputs": [],
   "source": [
    "# Calculating predictings and probablities using Y test values \n",
    "\n",
    "y2_test_pred = model2.predict(X_test)\n",
    "y2_test_prob = model2.predict_proba(X_test)"
   ]
  },
  {
   "cell_type": "code",
   "execution_count": 64,
   "id": "38b983b3",
   "metadata": {},
   "outputs": [
    {
     "name": "stdout",
     "output_type": "stream",
     "text": [
      "Accuracy : 0.7429 [TP / N] Proportion of predicted labels that match the true labels. Best: 1, Worst: 0\n",
      "Precision: 0.8947 [TP / (TP + FP)] Not to label a negative sample as positive.        Best: 1, Worst: 0\n",
      "Recall   : 0.7083 [TP / (TP + FN)] Find all the positive samples.                     Best: 1, Worst: 0\n",
      "ROC AUC  : 0.8561                                                                     Best: 1, Worst: < 0.5\n",
      "-----------------------------------------------------------------------------------------------------------\n",
      "TP: True Positives, FP: False Positives, TN: True Negatives, FN: False Negatives, N: Number of samples\n"
     ]
    },
    {
     "data": {
      "image/png": "[encoded data removed]",
      "text/plain": [
       "<Figure size 1296x432 with 3 Axes>"
      ]
     },
     "metadata": {
      "needs_background": "light"
     },
     "output_type": "display_data"
    }
   ],
   "source": [
    "show_summary_report(y_test, y2_test_pred, y2_test_prob)"
   ]
  },
  {
   "cell_type": "code",
   "execution_count": 65,
   "id": "3e66fb7c",
   "metadata": {},
   "outputs": [
    {
     "name": "stdout",
     "output_type": "stream",
     "text": [
      "Features selected by forward sequential selection: [ 1  2  3  4  5  6  7  9 11 12 15 16 18 19 20 25 28 29 33 34 36 39 41 43\n",
      " 46 47 48 49 53 55 59 60 63 70 72 75 76 80 81 84 85 86 87 88 90 91]\n"
     ]
    }
   ],
   "source": [
    "# feature selection using Sequential Feature Selector for Random Forest\n",
    "\n",
    "tic_fwd = time()\n",
    "sfs_forward = SequentialFeatureSelector(model, n_features_to_select=None, direction=\"forward\").fit(X, y)\n",
    "toc_fwd = time()\n",
    "print(\n",
    "    \"Features selected by forward sequential selection: \"\n",
    "    f\"{sfs_forward.get_support([df.columns])}\"\n",
    ")"
   ]
  },
  {
   "cell_type": "code",
   "execution_count": 91,
   "id": "f14a573e",
   "metadata": {},
   "outputs": [],
   "source": [
    "#Filter dataframe from the features selected\n",
    "df2 = df.iloc[:,[1,  2 , 3 , 4 , 5,  6 , 7  ,9, 11, 12 ,15 ,16, 18, 19 ,20, 25, 28, 29, 33, 34, 36, 39 ,41, 43,\n",
    " 46, 47 ,48 ,49 ,53, 55, 59, 60, 63, 70, 72 ,75 ,76, 80, 81 ,84, 85, 86 ,87, 88, 90, 91,92]]"
   ]
  },
  {
   "cell_type": "code",
   "execution_count": 92,
   "id": "f5ca92b9",
   "metadata": {},
   "outputs": [],
   "source": [
    "#Redefining X and y\n",
    "target_col = 'win_nowin'\n",
    "feature_cols = [c for c in df2.columns if c != target_col]\n",
    "\n",
    "X = df2[feature_cols]\n",
    "y= df2[target_col]"
   ]
  },
  {
   "cell_type": "code",
   "execution_count": 93,
   "id": "f430270a",
   "metadata": {},
   "outputs": [
    {
     "name": "stdout",
     "output_type": "stream",
     "text": [
      "<class 'pandas.core.frame.DataFrame'>\n",
      "RangeIndex: 174 entries, 0 to 173\n",
      "Data columns (total 46 columns):\n",
      " #   Column                      Non-Null Count  Dtype  \n",
      "---  ------                      --------------  -----  \n",
      " 0   xGA                         174 non-null    float64\n",
      " 1   Poss                        174 non-null    int64  \n",
      " 2   Touches                     174 non-null    int64  \n",
      " 3   Press                       174 non-null    int64  \n",
      " 4   Tkl                         174 non-null    int64  \n",
      " 5   Int                         174 non-null    int64  \n",
      " 6   Blocks                      174 non-null    int64  \n",
      " 7   npxG_Expected               174 non-null    float64\n",
      " 8   Att_Passes                  174 non-null    int64  \n",
      " 9   Cmp_percent_Passes          174 non-null    float64\n",
      " 10  Succ_Dribbles               174 non-null    int64  \n",
      " 11  Att_Dribbles                174 non-null    int64  \n",
      " 12  TotDist_Total               174 non-null    int64  \n",
      " 13  PrgDist_Total               174 non-null    int64  \n",
      " 14  Att_Short                   174 non-null    int64  \n",
      " 15  Cmp_percent_Long            174 non-null    float64\n",
      " 16  Live_Pass_Types             174 non-null    int64  \n",
      " 17  Dead_Pass_Types             174 non-null    int64  \n",
      " 18  Sw_Pass_Types               174 non-null    int64  \n",
      " 19  Crs_Pass_Types              174 non-null    int64  \n",
      " 20  Int_Outcomes                174 non-null    int64  \n",
      " 21  TklW_Tackles                174 non-null    int64  \n",
      " 22  Mid.3rd_Tackles             174 non-null    int64  \n",
      " 23  Att_Vs_Dribbles             174 non-null    int64  \n",
      " 24  Press_Pressures             174 non-null    int64  \n",
      " 25  Succ_Pressures              174 non-null    int64  \n",
      " 26  Def.3rd_Pressures           174 non-null    int64  \n",
      " 27  Mid.3rd_Pressures           174 non-null    int64  \n",
      " 28  Pass_Blocks                 174 non-null    int64  \n",
      " 29  Clr                         174 non-null    int64  \n",
      " 30  Def.3rd_Touches             174 non-null    int64  \n",
      " 31  Mid.3rd_Touches             174 non-null    int64  \n",
      " 32  Succ_percent_Dribbles       174 non-null    float64\n",
      " 33  Fld                         174 non-null    int64  \n",
      " 34  Crs                         174 non-null    int64  \n",
      " 35  PKcon                       174 non-null    int64  \n",
      " 36  Won_percent_Aerial_Duels    174 non-null    float64\n",
      " 37  Att_Goal_Kicks              174 non-null    int64  \n",
      " 38  Save_percent_Shot_Stopping  174 non-null    float64\n",
      " 39  GCA_SCA                     174 non-null    int64  \n",
      " 40  Prog                        174 non-null    int64  \n",
      " 41  TotDist_Carries             174 non-null    int64  \n",
      " 42  PSxG_Shot_Stopping          174 non-null    float64\n",
      " 43  Opp_Crosses                 174 non-null    int64  \n",
      " 44  Player_NumOPA_Sweeper       174 non-null    int64  \n",
      " 45  formation_class             174 non-null    int64  \n",
      "dtypes: float64(8), int64(38)\n",
      "memory usage: 62.7 KB\n"
     ]
    }
   ],
   "source": [
    "X.info()"
   ]
  },
  {
   "cell_type": "code",
   "execution_count": 94,
   "id": "3572ebed",
   "metadata": {},
   "outputs": [
    {
     "data": {
      "text/plain": [
       "1    93\n",
       "0    81\n",
       "Name: win_nowin, dtype: int64"
      ]
     },
     "execution_count": 94,
     "metadata": {},
     "output_type": "execute_result"
    }
   ],
   "source": [
    "y.value_counts()"
   ]
  },
  {
   "cell_type": "code",
   "execution_count": 114,
   "id": "026be2be",
   "metadata": {},
   "outputs": [],
   "source": [
    "X_train, X_test, y_train, y_test = train_test_split(X, y, test_size=0.2, random_state=100)"
   ]
  },
  {
   "cell_type": "code",
   "execution_count": 115,
   "id": "6d7fb933",
   "metadata": {},
   "outputs": [
    {
     "name": "stdout",
     "output_type": "stream",
     "text": [
      "<class 'pandas.core.frame.DataFrame'>\n",
      "Int64Index: 139 entries, 96 to 8\n",
      "Data columns (total 46 columns):\n",
      " #   Column                      Non-Null Count  Dtype  \n",
      "---  ------                      --------------  -----  \n",
      " 0   xGA                         139 non-null    float64\n",
      " 1   Poss                        139 non-null    int64  \n",
      " 2   Touches                     139 non-null    int64  \n",
      " 3   Press                       139 non-null    int64  \n",
      " 4   Tkl                         139 non-null    int64  \n",
      " 5   Int                         139 non-null    int64  \n",
      " 6   Blocks                      139 non-null    int64  \n",
      " 7   npxG_Expected               139 non-null    float64\n",
      " 8   Att_Passes                  139 non-null    int64  \n",
      " 9   Cmp_percent_Passes          139 non-null    float64\n",
      " 10  Succ_Dribbles               139 non-null    int64  \n",
      " 11  Att_Dribbles                139 non-null    int64  \n",
      " 12  TotDist_Total               139 non-null    int64  \n",
      " 13  PrgDist_Total               139 non-null    int64  \n",
      " 14  Att_Short                   139 non-null    int64  \n",
      " 15  Cmp_percent_Long            139 non-null    float64\n",
      " 16  Live_Pass_Types             139 non-null    int64  \n",
      " 17  Dead_Pass_Types             139 non-null    int64  \n",
      " 18  Sw_Pass_Types               139 non-null    int64  \n",
      " 19  Crs_Pass_Types              139 non-null    int64  \n",
      " 20  Int_Outcomes                139 non-null    int64  \n",
      " 21  TklW_Tackles                139 non-null    int64  \n",
      " 22  Mid.3rd_Tackles             139 non-null    int64  \n",
      " 23  Att_Vs_Dribbles             139 non-null    int64  \n",
      " 24  Press_Pressures             139 non-null    int64  \n",
      " 25  Succ_Pressures              139 non-null    int64  \n",
      " 26  Def.3rd_Pressures           139 non-null    int64  \n",
      " 27  Mid.3rd_Pressures           139 non-null    int64  \n",
      " 28  Pass_Blocks                 139 non-null    int64  \n",
      " 29  Clr                         139 non-null    int64  \n",
      " 30  Def.3rd_Touches             139 non-null    int64  \n",
      " 31  Mid.3rd_Touches             139 non-null    int64  \n",
      " 32  Succ_percent_Dribbles       139 non-null    float64\n",
      " 33  Fld                         139 non-null    int64  \n",
      " 34  Crs                         139 non-null    int64  \n",
      " 35  PKcon                       139 non-null    int64  \n",
      " 36  Won_percent_Aerial_Duels    139 non-null    float64\n",
      " 37  Att_Goal_Kicks              139 non-null    int64  \n",
      " 38  Save_percent_Shot_Stopping  139 non-null    float64\n",
      " 39  GCA_SCA                     139 non-null    int64  \n",
      " 40  Prog                        139 non-null    int64  \n",
      " 41  TotDist_Carries             139 non-null    int64  \n",
      " 42  PSxG_Shot_Stopping          139 non-null    float64\n",
      " 43  Opp_Crosses                 139 non-null    int64  \n",
      " 44  Player_NumOPA_Sweeper       139 non-null    int64  \n",
      " 45  formation_class             139 non-null    int64  \n",
      "dtypes: float64(8), int64(38)\n",
      "memory usage: 51.0 KB\n"
     ]
    }
   ],
   "source": [
    "X_train.info()"
   ]
  },
  {
   "cell_type": "code",
   "execution_count": 96,
   "id": "53d58b8c",
   "metadata": {},
   "outputs": [],
   "source": [
    "model = RandomForestClassifier(n_estimators = 50, random_state = 100)"
   ]
  },
  {
   "cell_type": "code",
   "execution_count": 97,
   "id": "6350de06",
   "metadata": {},
   "outputs": [
    {
     "data": {
      "text/plain": [
       "RandomForestClassifier(n_estimators=50, random_state=100)"
      ]
     },
     "execution_count": 97,
     "metadata": {},
     "output_type": "execute_result"
    }
   ],
   "source": [
    "# Fit Random Forest Classifier \n",
    "model.fit(X_train, y_train)"
   ]
  },
  {
   "cell_type": "code",
   "execution_count": 98,
   "id": "0d7e3acd",
   "metadata": {},
   "outputs": [
    {
     "name": "stdout",
     "output_type": "stream",
     "text": [
      "Mean Accuracy: 0.891 (0.070)\n"
     ]
    }
   ],
   "source": [
    "# Cross-validate the data using Repeatead Stratified K Fold (10 splits)\n",
    "\n",
    "cv = RepeatedStratifiedKFold(n_splits=10, n_repeats=3, random_state=1)\n",
    "# evaluate the model and collect the scores\n",
    "n_scores = cross_val_score(model, X, y, scoring='accuracy', cv=cv, n_jobs=-1)\n",
    "# report the model performance\n",
    "print('Mean Accuracy: %.3f (%.3f)' % (np.mean(n_scores), np.std(n_scores)))"
   ]
  },
  {
   "cell_type": "code",
   "execution_count": 99,
   "id": "d86e7c3f",
   "metadata": {},
   "outputs": [
    {
     "name": "stdout",
     "output_type": "stream",
     "text": [
      "[0.88888889 0.88888889 0.83333333 0.94444444 0.88235294 0.82352941\n",
      " 0.82352941 0.76470588 0.94117647 0.88235294 0.83333333 1.\n",
      " 1.         0.94444444 0.82352941 0.82352941 0.88235294 1.\n",
      " 0.88235294 0.76470588 0.83333333 0.77777778 0.88888889 0.94444444\n",
      " 0.94117647 1.         0.94117647 0.88235294 0.88235294 1.        ]\n"
     ]
    }
   ],
   "source": [
    "print(n_scores)"
   ]
  },
  {
   "cell_type": "code",
   "execution_count": 100,
   "id": "d3a13ee6",
   "metadata": {},
   "outputs": [],
   "source": [
    "# Calculating predictings and probablities using Y test values \n",
    "\n",
    "y_test_pred = model.predict(X_test)\n",
    "y_test_prob = model.predict_proba(X_test)"
   ]
  },
  {
   "cell_type": "code",
   "execution_count": 77,
   "id": "b1566828",
   "metadata": {
    "scrolled": true
   },
   "outputs": [
    {
     "name": "stdout",
     "output_type": "stream",
     "text": [
      "Accuracy : 0.7714 [TP / N] Proportion of predicted labels that match the true labels. Best: 1, Worst: 0\n",
      "Precision: 0.9000 [TP / (TP + FP)] Not to label a negative sample as positive.        Best: 1, Worst: 0\n",
      "Recall   : 0.7500 [TP / (TP + FN)] Find all the positive samples.                     Best: 1, Worst: 0\n",
      "ROC AUC  : 0.8864                                                                     Best: 1, Worst: < 0.5\n",
      "-----------------------------------------------------------------------------------------------------------\n",
      "TP: True Positives, FP: False Positives, TN: True Negatives, FN: False Negatives, N: Number of samples\n"
     ]
    },
    {
     "data": {
      "image/png": "[encoded data removed]",
      "text/plain": [
       "<Figure size 1296x432 with 3 Axes>"
      ]
     },
     "metadata": {
      "needs_background": "light"
     },
     "output_type": "display_data"
    }
   ],
   "source": [
    "show_summary_report(y_test, y_test_pred, y_test_prob)"
   ]
  },
  {
   "cell_type": "code",
   "execution_count": 116,
   "id": "71219a7e",
   "metadata": {},
   "outputs": [
    {
     "data": {
      "text/plain": [
       "LogisticRegression(C=100, random_state=100, solver='saga')"
      ]
     },
     "execution_count": 116,
     "metadata": {},
     "output_type": "execute_result"
    }
   ],
   "source": [
    "# LR for updated features \n",
    "lr2 = LogisticRegression(solver='saga', C=100, random_state=100)\n",
    "lr2.fit(X_train, y_train)"
   ]
  },
  {
   "cell_type": "code",
   "execution_count": 118,
   "id": "67cdbf35",
   "metadata": {
    "scrolled": true
   },
   "outputs": [
    {
     "name": "stdout",
     "output_type": "stream",
     "text": [
      "Mean Accuracy: 0.589 (0.083)\n"
     ]
    },
    {
     "name": "stderr",
     "output_type": "stream",
     "text": [
      "/Users/z3433848/opt/anaconda3/lib/python3.9/site-packages/sklearn/linear_model/_sag.py:328: ConvergenceWarning: The max_iter was reached which means the coef_ did not converge\n",
      "  warnings.warn(\"The max_iter was reached which means \"\n",
      "/Users/z3433848/opt/anaconda3/lib/python3.9/site-packages/sklearn/linear_model/_sag.py:328: ConvergenceWarning: The max_iter was reached which means the coef_ did not converge\n",
      "  warnings.warn(\"The max_iter was reached which means \"\n",
      "/Users/z3433848/opt/anaconda3/lib/python3.9/site-packages/sklearn/linear_model/_sag.py:328: ConvergenceWarning: The max_iter was reached which means the coef_ did not converge\n",
      "  warnings.warn(\"The max_iter was reached which means \"\n",
      "/Users/z3433848/opt/anaconda3/lib/python3.9/site-packages/sklearn/linear_model/_sag.py:328: ConvergenceWarning: The max_iter was reached which means the coef_ did not converge\n",
      "  warnings.warn(\"The max_iter was reached which means \"\n",
      "/Users/z3433848/opt/anaconda3/lib/python3.9/site-packages/sklearn/linear_model/_sag.py:328: ConvergenceWarning: The max_iter was reached which means the coef_ did not converge\n",
      "  warnings.warn(\"The max_iter was reached which means \"\n",
      "/Users/z3433848/opt/anaconda3/lib/python3.9/site-packages/sklearn/linear_model/_sag.py:328: ConvergenceWarning: The max_iter was reached which means the coef_ did not converge\n",
      "  warnings.warn(\"The max_iter was reached which means \"\n",
      "/Users/z3433848/opt/anaconda3/lib/python3.9/site-packages/sklearn/linear_model/_sag.py:328: ConvergenceWarning: The max_iter was reached which means the coef_ did not converge\n",
      "  warnings.warn(\"The max_iter was reached which means \"\n",
      "/Users/z3433848/opt/anaconda3/lib/python3.9/site-packages/sklearn/linear_model/_sag.py:328: ConvergenceWarning: The max_iter was reached which means the coef_ did not converge\n",
      "  warnings.warn(\"The max_iter was reached which means \"\n",
      "/Users/z3433848/opt/anaconda3/lib/python3.9/site-packages/sklearn/linear_model/_sag.py:328: ConvergenceWarning: The max_iter was reached which means the coef_ did not converge\n",
      "  warnings.warn(\"The max_iter was reached which means \"\n",
      "/Users/z3433848/opt/anaconda3/lib/python3.9/site-packages/sklearn/linear_model/_sag.py:328: ConvergenceWarning: The max_iter was reached which means the coef_ did not converge\n",
      "  warnings.warn(\"The max_iter was reached which means \"\n",
      "/Users/z3433848/opt/anaconda3/lib/python3.9/site-packages/sklearn/linear_model/_sag.py:328: ConvergenceWarning: The max_iter was reached which means the coef_ did not converge\n",
      "  warnings.warn(\"The max_iter was reached which means \"\n",
      "/Users/z3433848/opt/anaconda3/lib/python3.9/site-packages/sklearn/linear_model/_sag.py:328: ConvergenceWarning: The max_iter was reached which means the coef_ did not converge\n",
      "  warnings.warn(\"The max_iter was reached which means \"\n",
      "/Users/z3433848/opt/anaconda3/lib/python3.9/site-packages/sklearn/linear_model/_sag.py:328: ConvergenceWarning: The max_iter was reached which means the coef_ did not converge\n",
      "  warnings.warn(\"The max_iter was reached which means \"\n",
      "/Users/z3433848/opt/anaconda3/lib/python3.9/site-packages/sklearn/linear_model/_sag.py:328: ConvergenceWarning: The max_iter was reached which means the coef_ did not converge\n",
      "  warnings.warn(\"The max_iter was reached which means \"\n",
      "/Users/z3433848/opt/anaconda3/lib/python3.9/site-packages/sklearn/linear_model/_sag.py:328: ConvergenceWarning: The max_iter was reached which means the coef_ did not converge\n",
      "  warnings.warn(\"The max_iter was reached which means \"\n",
      "/Users/z3433848/opt/anaconda3/lib/python3.9/site-packages/sklearn/linear_model/_sag.py:328: ConvergenceWarning: The max_iter was reached which means the coef_ did not converge\n",
      "  warnings.warn(\"The max_iter was reached which means \"\n",
      "/Users/z3433848/opt/anaconda3/lib/python3.9/site-packages/sklearn/linear_model/_sag.py:328: ConvergenceWarning: The max_iter was reached which means the coef_ did not converge\n",
      "  warnings.warn(\"The max_iter was reached which means \"\n",
      "/Users/z3433848/opt/anaconda3/lib/python3.9/site-packages/sklearn/linear_model/_sag.py:328: ConvergenceWarning: The max_iter was reached which means the coef_ did not converge\n",
      "  warnings.warn(\"The max_iter was reached which means \"\n",
      "/Users/z3433848/opt/anaconda3/lib/python3.9/site-packages/sklearn/linear_model/_sag.py:328: ConvergenceWarning: The max_iter was reached which means the coef_ did not converge\n",
      "  warnings.warn(\"The max_iter was reached which means \"\n",
      "/Users/z3433848/opt/anaconda3/lib/python3.9/site-packages/sklearn/linear_model/_sag.py:328: ConvergenceWarning: The max_iter was reached which means the coef_ did not converge\n",
      "  warnings.warn(\"The max_iter was reached which means \"\n",
      "/Users/z3433848/opt/anaconda3/lib/python3.9/site-packages/sklearn/linear_model/_sag.py:328: ConvergenceWarning: The max_iter was reached which means the coef_ did not converge\n",
      "  warnings.warn(\"The max_iter was reached which means \"\n",
      "/Users/z3433848/opt/anaconda3/lib/python3.9/site-packages/sklearn/linear_model/_sag.py:328: ConvergenceWarning: The max_iter was reached which means the coef_ did not converge\n",
      "  warnings.warn(\"The max_iter was reached which means \"\n",
      "/Users/z3433848/opt/anaconda3/lib/python3.9/site-packages/sklearn/linear_model/_sag.py:328: ConvergenceWarning: The max_iter was reached which means the coef_ did not converge\n",
      "  warnings.warn(\"The max_iter was reached which means \"\n",
      "/Users/z3433848/opt/anaconda3/lib/python3.9/site-packages/sklearn/linear_model/_sag.py:328: ConvergenceWarning: The max_iter was reached which means the coef_ did not converge\n",
      "  warnings.warn(\"The max_iter was reached which means \"\n",
      "/Users/z3433848/opt/anaconda3/lib/python3.9/site-packages/sklearn/linear_model/_sag.py:328: ConvergenceWarning: The max_iter was reached which means the coef_ did not converge\n",
      "  warnings.warn(\"The max_iter was reached which means \"\n",
      "/Users/z3433848/opt/anaconda3/lib/python3.9/site-packages/sklearn/linear_model/_sag.py:328: ConvergenceWarning: The max_iter was reached which means the coef_ did not converge\n",
      "  warnings.warn(\"The max_iter was reached which means \"\n",
      "/Users/z3433848/opt/anaconda3/lib/python3.9/site-packages/sklearn/linear_model/_sag.py:328: ConvergenceWarning: The max_iter was reached which means the coef_ did not converge\n",
      "  warnings.warn(\"The max_iter was reached which means \"\n",
      "/Users/z3433848/opt/anaconda3/lib/python3.9/site-packages/sklearn/linear_model/_sag.py:328: ConvergenceWarning: The max_iter was reached which means the coef_ did not converge\n",
      "  warnings.warn(\"The max_iter was reached which means \"\n",
      "/Users/z3433848/opt/anaconda3/lib/python3.9/site-packages/sklearn/linear_model/_sag.py:328: ConvergenceWarning: The max_iter was reached which means the coef_ did not converge\n",
      "  warnings.warn(\"The max_iter was reached which means \"\n",
      "/Users/z3433848/opt/anaconda3/lib/python3.9/site-packages/sklearn/linear_model/_sag.py:328: ConvergenceWarning: The max_iter was reached which means the coef_ did not converge\n",
      "  warnings.warn(\"The max_iter was reached which means \"\n"
     ]
    }
   ],
   "source": [
    "# Cross-validate the data using Repeatead Stratified K Fold (10 splits)\n",
    "\n",
    "cv = RepeatedStratifiedKFold(n_splits=10, n_repeats=3, random_state=1)\n",
    "# evaluate the model and collect the scores\n",
    "n_scores = cross_val_score(lr2, X, y, scoring='accuracy', cv=cv, n_jobs=-1)\n",
    "# report the model performance\n",
    "print('Mean Accuracy: %.3f (%.3f)' % (np.mean(n_scores), np.std(n_scores)))"
   ]
  },
  {
   "cell_type": "code",
   "execution_count": 120,
   "id": "e290eba1",
   "metadata": {},
   "outputs": [
    {
     "name": "stdout",
     "output_type": "stream",
     "text": [
      "Accuracy score = 0.5714285714285714\n",
      "              precision    recall  f1-score   support\n",
      "\n",
      "           0       0.38      0.55      0.44        11\n",
      "           1       0.74      0.58      0.65        24\n",
      "\n",
      "    accuracy                           0.57        35\n",
      "   macro avg       0.56      0.56      0.55        35\n",
      "weighted avg       0.62      0.57      0.59        35\n",
      "\n"
     ]
    },
    {
     "data": {
      "image/png": "[encoded data removed]",
      "text/plain": [
       "<Figure size 432x288 with 2 Axes>"
      ]
     },
     "metadata": {
      "needs_background": "light"
     },
     "output_type": "display_data"
    }
   ],
   "source": [
    "#Confusion Matrix for new LR\n",
    "y_pred_lr2 = lr2.predict(X_test)\n",
    "ac = accuracy_score(y_test,y_pred_lr)\n",
    "print('Accuracy score =',ac)\n",
    "cm = confusion_matrix(y_test, y_pred_lr)\n",
    "s= sns.heatmap(cm,annot=True,fmt=\"d\")\n",
    "s.set(xlabel='Actual', ylabel='Predicted')\n",
    "print(classification_report(y_test, y_pred_lr))"
   ]
  },
  {
   "cell_type": "code",
   "execution_count": 80,
   "id": "dee4f732",
   "metadata": {},
   "outputs": [],
   "source": [
    "# creating shapely explainer variable to explore feature importance \n",
    "\n",
    "explainer = shap.TreeExplainer(model)"
   ]
  },
  {
   "cell_type": "code",
   "execution_count": 81,
   "id": "2cdc056f",
   "metadata": {},
   "outputs": [],
   "source": [
    "# get shap values for the features \n",
    "\n",
    "shap_values = explainer.shap_values(X_train)"
   ]
  },
  {
   "cell_type": "code",
   "execution_count": 82,
   "id": "f23f1e95",
   "metadata": {
    "scrolled": false
   },
   "outputs": [
    {
     "data": {
      "image/png": "[encoded data removed]",
      "text/plain": [
       "<Figure size 2160x1080 with 1 Axes>"
      ]
     },
     "metadata": {
      "needs_background": "light"
     },
     "output_type": "display_data"
    }
   ],
   "source": [
    "#Plot feature imporantce according to shap values \n",
    "\n",
    "plt_shap = shap.summary_plot(shap_values, #Use Shap values array\n",
    "                             features=X_train, # Use training set features\n",
    "                             feature_names=X_train.columns, #Use column names\n",
    "                             plot_size=(30,15)) # Change plot size\n",
    "plt.show()"
   ]
  },
  {
   "cell_type": "code",
   "execution_count": 121,
   "id": "b0bfbff7",
   "metadata": {},
   "outputs": [],
   "source": [
    " # Compute ROC curve and ROC area for LR \n",
    "    preds2 = lr2.predict_proba(X_test)[:,1]\n",
    "    fpr1, tpr1, _ = metrics.roc_curve(y_test, preds2)\n",
    "\n",
    "    # Store the Area Under the Curve (AUC) for Logistic regression so we can annotate our graph with theis metric\n",
    "    roc_auc1 = metrics.auc(fpr1, tpr1)"
   ]
  },
  {
   "cell_type": "code",
   "execution_count": 102,
   "id": "fdba92f9",
   "metadata": {},
   "outputs": [],
   "source": [
    "# Compute ROC curve and ROC area for Random Forest\n",
    "fpr2, tpr2, _ = roc_curve(y_test, y_test_prob[:, 1])\n",
    "roc_auc2 = auc(fpr2, tpr2)"
   ]
  },
  {
   "cell_type": "code",
   "execution_count": 122,
   "id": "cb13ba3d",
   "metadata": {},
   "outputs": [
    {
     "data": {
      "image/png": "[encoded data removed]",
      "text/plain": [
       "<Figure size 432x288 with 1 Axes>"
      ]
     },
     "metadata": {
      "needs_background": "light"
     },
     "output_type": "display_data"
    }
   ],
   "source": [
    "#Plot ROC comparison\n",
    "ax = plt.axes()\n",
    "\n",
    "# plot ROC curves\n",
    "ax.plot(fpr1, tpr1, color = 'darkorange', lw = 2, label = 'ROC curve for Logistic Regression (AUC = %0.2f)' % roc_auc1) #ROC for model1 (LR)\n",
    "ax.plot(fpr2, tpr2, color = 'green', lw = 2, label = 'ROC curve for Random Forst Classifier(AUC = %0.2f)' % roc_auc2) #ROC for model2 (RF)\n",
    "\n",
    "ax.plot([0, 1], [0, 1], color = 'navy', lw = 2, linestyle = '--')\n",
    "ax.set_xlim([0.0, 1.0])\n",
    "ax.set_ylim([0.0, 1.0])\n",
    "ax.set_xlabel('False Positive Rate', color='white')\n",
    "ax.set_ylabel('True Positive Rate', color='white')\n",
    "ax.set_title('Receiver Operating Characteristic', color='white')\n",
    "ax.legend(loc = 'lower right')\n",
    "plt.legend(bbox_to_anchor = (1.05, 0.6))\n",
    "\n",
    "plt.show()"
   ]
  }
 ],
 "metadata": {
  "kernelspec": {
   "display_name": "Python 3 (ipykernel)",
   "language": "python",
   "name": "python3"
  },
  "language_info": {
   "codemirror_mode": {
    "name": "ipython",
    "version": 3
   },
   "file_extension": ".py",
   "mimetype": "text/x-python",
   "name": "python",
   "nbconvert_exporter": "python",
   "pygments_lexer": "ipython3",
   "version": "3.9.7"
  }
 },
 "nbformat": 4,
 "nbformat_minor": 5
}
